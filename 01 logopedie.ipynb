{
 "cells": [
  {
   "cell_type": "code",
   "execution_count": 38,
   "id": "952901c5",
   "metadata": {},
   "outputs": [],
   "source": [
    "def nahodne(hlaska, pocet=50, pozice=\"kdekoliv\", double=False):\n",
    "    import random\n",
    "    global words\n",
    "    delka = len(hlaska) \n",
    "    if pozice == \"zacatek\":\n",
    "        hlaskova_slova = [x for x in words if x[0:delka] == hlaska]\n",
    "    elif pozice == \"konec\":\n",
    "        hlaskova_slova = [x for x in words if x[-delka:] == hlaska]\n",
    "    else:\n",
    "        hlaskova_slova = [x for x in words if (hlaska in x)]\n",
    "    hlaskova_slova = [x for x in hlaskova_slova if f\"{hlaska}{hlaska}\" not in x]\n",
    "    if double:\n",
    "        hlaskova_slova = [x for x in hlaskova_slova if x.count(hlaska) >= 2]\n",
    "    print(f\"celkem {len(hlaskova_slova)} slov\")\n",
    "    if pocet > len(hlaskova_slova):\n",
    "        return hlaskova_slova\n",
    "    else:\n",
    "        return random.sample(hlaskova_slova, pocet)"
   ]
  },
  {
   "cell_type": "code",
   "execution_count": 39,
   "id": "e08168a0",
   "metadata": {},
   "outputs": [],
   "source": [
    "import os"
   ]
  },
  {
   "cell_type": "code",
   "execution_count": 40,
   "id": "1df0816c",
   "metadata": {},
   "outputs": [],
   "source": [
    "with open(\"slova.txt\", \"r\", encoding=\"utf-8\") as slova:\n",
    "    words = slova.read().splitlines()"
   ]
  },
  {
   "cell_type": "code",
   "execution_count": 41,
   "id": "b40e5bca",
   "metadata": {},
   "outputs": [
    {
     "data": {
      "text/plain": [
       "138580"
      ]
     },
     "execution_count": 41,
     "metadata": {},
     "output_type": "execute_result"
    }
   ],
   "source": [
    "len(words)"
   ]
  },
  {
   "cell_type": "markdown",
   "id": "058e970f",
   "metadata": {},
   "source": [
    "## hlásky"
   ]
  },
  {
   "cell_type": "code",
   "execution_count": 42,
   "id": "e5ea0428",
   "metadata": {},
   "outputs": [
    {
     "name": "stdout",
     "output_type": "stream",
     "text": [
      "celkem 2522 slov\n"
     ]
    },
    {
     "data": {
      "text/plain": [
       "['káforkou',\n",
       " 'odfrnčel',\n",
       " 'fanatika',\n",
       " 'megafonem',\n",
       " 'kufříku',\n",
       " 'faimonova',\n",
       " 'formičky',\n",
       " 'hypofýzy',\n",
       " 'trumf',\n",
       " 'triumfální',\n",
       " 'atchafalaya',\n",
       " 'katastrofám',\n",
       " 'profukoval',\n",
       " 'faječka',\n",
       " 'fiakr',\n",
       " 'faustova',\n",
       " 'diferenciace',\n",
       " 'hafat',\n",
       " 'defilovala',\n",
       " 'prefektuře',\n",
       " 'štráfek',\n",
       " 'rafinovaný',\n",
       " 'francovi',\n",
       " 'fárlíka',\n",
       " 'kurfiřtovi',\n",
       " 'profesionální',\n",
       " 'faimonka',\n",
       " 'luciferovi',\n",
       " 'francimora',\n",
       " 'formálně',\n",
       " 'profitovala',\n",
       " 'floxem',\n",
       " 'fungovala',\n",
       " 'fundační',\n",
       " 'afrodita',\n",
       " 'sfinga',\n",
       " 'francouzským',\n",
       " 'kafr',\n",
       " 'žirafu',\n",
       " 'pifku',\n",
       " 'fascinovaly',\n",
       " 'hafání',\n",
       " 'táflováním',\n",
       " 'faltou',\n",
       " 'fólií',\n",
       " 'šlejfernu',\n",
       " 'frye',\n",
       " 'reformovat',\n",
       " 'farníkem',\n",
       " 'faláře']"
      ]
     },
     "execution_count": 42,
     "metadata": {},
     "output_type": "execute_result"
    }
   ],
   "source": [
    "nahodne(\"f\")"
   ]
  },
  {
   "cell_type": "code",
   "execution_count": 43,
   "id": "a3b6abbc",
   "metadata": {},
   "outputs": [
    {
     "name": "stdout",
     "output_type": "stream",
     "text": [
      "celkem 51 slov\n"
     ]
    },
    {
     "data": {
      "text/plain": [
       "['wolf',\n",
       " 'kardiograf',\n",
       " 'elf',\n",
       " 'žof',\n",
       " 'háááf',\n",
       " 'šéf',\n",
       " 'podpif',\n",
       " 'chief',\n",
       " 'nif',\n",
       " 'mňáaauf',\n",
       " 'auf',\n",
       " 'kryštof',\n",
       " 'hňauf',\n",
       " 'triumf',\n",
       " 'trumf',\n",
       " 'ňauňauňáuf',\n",
       " 'pif',\n",
       " 'palagraf',\n",
       " 'rudolf',\n",
       " 'rauf']"
      ]
     },
     "execution_count": 43,
     "metadata": {},
     "output_type": "execute_result"
    }
   ],
   "source": [
    "nahodne(\"f\",20,pozice=\"konec\")"
   ]
  },
  {
   "cell_type": "code",
   "execution_count": 44,
   "id": "2743c62b",
   "metadata": {},
   "outputs": [
    {
     "name": "stdout",
     "output_type": "stream",
     "text": [
      "celkem 11993 slov\n"
     ]
    },
    {
     "data": {
      "text/plain": [
       "['vězeň',\n",
       " 'vyžádalo',\n",
       " 'vrbčan',\n",
       " 'vinklera',\n",
       " 'vězení',\n",
       " 'velebný',\n",
       " 'vyhrabe',\n",
       " 'vzkypěla',\n",
       " 'vytéci',\n",
       " 'válkami',\n",
       " 'vrtáčky',\n",
       " 'volajú',\n",
       " 'vstáti',\n",
       " 'vykecnu',\n",
       " 'vyudí',\n",
       " 'vrány',\n",
       " 'volákové',\n",
       " 'vpravdě',\n",
       " 'vyčarovat',\n",
       " 'volnějším']"
      ]
     },
     "execution_count": 44,
     "metadata": {},
     "output_type": "execute_result"
    }
   ],
   "source": [
    "nahodne(\"v\",20,pozice=\"zacatek\")"
   ]
  },
  {
   "cell_type": "code",
   "execution_count": 45,
   "id": "c2b4441e",
   "metadata": {},
   "outputs": [
    {
     "name": "stdout",
     "output_type": "stream",
     "text": [
      "celkem 4555 slov\n"
     ]
    },
    {
     "data": {
      "text/plain": [
       "['brejličkami',\n",
       " 'bystrém',\n",
       " 'berní',\n",
       " 'brouk',\n",
       " 'bydlívala',\n",
       " 'bertami',\n",
       " 'blažený',\n",
       " 'bratrův',\n",
       " 'bělounkých',\n",
       " 'bergova',\n",
       " 'bydlej',\n",
       " 'březnovým',\n",
       " 'beztrestně',\n",
       " 'beranici',\n",
       " 'bruslíčku',\n",
       " 'bednění',\n",
       " 'bílo',\n",
       " 'bandory',\n",
       " 'bujní',\n",
       " 'bodaly',\n",
       " 'bořity',\n",
       " 'břečťanu',\n",
       " 'bytím',\n",
       " 'batak',\n",
       " 'bolavou',\n",
       " 'běda',\n",
       " 'budapest',\n",
       " 'blaženého',\n",
       " 'bukovému',\n",
       " 'baďura',\n",
       " 'bibliotékáři',\n",
       " 'bať',\n",
       " 'bobříkovi',\n",
       " 'braníka',\n",
       " 'blaťouchů',\n",
       " 'bojím',\n",
       " 'blázínku',\n",
       " 'bílúnkého',\n",
       " 'boušíně',\n",
       " 'břízy',\n",
       " 'benedictum',\n",
       " 'budulínek',\n",
       " 'broučka',\n",
       " 'blyštěla',\n",
       " 'bubínky',\n",
       " 'bludařů',\n",
       " 'babkou',\n",
       " 'beleidigung',\n",
       " 'bažina',\n",
       " 'babiččinu']"
      ]
     },
     "execution_count": 45,
     "metadata": {},
     "output_type": "execute_result"
    }
   ],
   "source": [
    "nahodne(\"b\",50,pozice=\"zacatek\")"
   ]
  }
 ],
 "metadata": {
  "kernelspec": {
   "display_name": "Python 3 (ipykernel)",
   "language": "python",
   "name": "python3"
  },
  "language_info": {
   "codemirror_mode": {
    "name": "ipython",
    "version": 3
   },
   "file_extension": ".py",
   "mimetype": "text/x-python",
   "name": "python",
   "nbconvert_exporter": "python",
   "pygments_lexer": "ipython3",
   "version": "3.10.8"
  }
 },
 "nbformat": 4,
 "nbformat_minor": 5
}
