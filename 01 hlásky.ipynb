{
 "cells": [
  {
   "cell_type": "code",
   "execution_count": 7,
   "id": "e08168a0",
   "metadata": {},
   "outputs": [],
   "source": [
    "import os"
   ]
  },
  {
   "cell_type": "code",
   "execution_count": 17,
   "id": "1df0816c",
   "metadata": {},
   "outputs": [],
   "source": [
    "with open(\"slova_z_korpusu_50k.txt\", \"r\", encoding=\"utf-8\") as slova:\n",
    "    words = slova.read().splitlines()"
   ]
  },
  {
   "cell_type": "code",
   "execution_count": 18,
   "id": "b40e5bca",
   "metadata": {},
   "outputs": [
    {
     "data": {
      "text/plain": [
       "49995"
      ]
     },
     "execution_count": 18,
     "metadata": {},
     "output_type": "execute_result"
    }
   ],
   "source": [
    "len(words)"
   ]
  },
  {
   "cell_type": "code",
   "execution_count": 19,
   "id": "952901c5",
   "metadata": {},
   "outputs": [],
   "source": [
    "def nahodne(hlaska, pocet=50, pozice=\"kdekoliv\", double=False, bez=[\"\"]):\n",
    "    import random\n",
    "    global words\n",
    "    delka = len(hlaska) \n",
    "    if pozice == \"zacatek\":\n",
    "        hlaskova_slova = [x for x in words if x[0:delka] == hlaska]\n",
    "    elif pozice == \"konec\":\n",
    "        hlaskova_slova = [x for x in words if x[-delka:] == hlaska]\n",
    "    elif pozice == \"uprostred\":\n",
    "        hlaskova_slova = [x for x in words if (hlaska in x[1:-1])]\n",
    "    else:\n",
    "        hlaskova_slova = [x for x in words if (hlaska in x)]\n",
    "    hlaskova_slova = [x for x in hlaskova_slova if f\"{hlaska}{hlaska}\" not in x]\n",
    "    if double:\n",
    "        hlaskova_slova = [x for x in hlaskova_slova if x.count(hlaska) >= 2]\n",
    "    print(f\"celkem {len(hlaskova_slova)} slov\")\n",
    "    if bez != [\"\"]:\n",
    "        for b in bez:\n",
    "            hlaskova_slova = [x for x in hlaskova_slova if b not in x]\n",
    "    if pocet > len(hlaskova_slova):\n",
    "        return hlaskova_slova\n",
    "    else:\n",
    "        return random.sample(hlaskova_slova, pocet)"
   ]
  },
  {
   "cell_type": "code",
   "execution_count": 20,
   "id": "e5ea0428",
   "metadata": {},
   "outputs": [
    {
     "name": "stdout",
     "output_type": "stream",
     "text": [
      "celkem 33 slov\n"
     ]
    },
    {
     "data": {
      "text/plain": [
       "['filosofický',\n",
       " 'filozofování',\n",
       " 'fajfka',\n",
       " 'Bischofshofen',\n",
       " 'filozofický',\n",
       " 'filosoficky',\n",
       " 'filozofie',\n",
       " 'filozofující',\n",
       " 'Mefistofeles',\n",
       " 'filozoficky',\n",
       " 'falzifikát',\n",
       " 'filozofovat',\n",
       " 'fosfát',\n",
       " 'filozof']"
      ]
     },
     "execution_count": 20,
     "metadata": {},
     "output_type": "execute_result"
    }
   ],
   "source": [
    "nahodne(\"f\",double=True, bez=['r','ř'])"
   ]
  },
  {
   "cell_type": "code",
   "execution_count": 21,
   "id": "01545aa4",
   "metadata": {},
   "outputs": [
    {
     "name": "stdout",
     "output_type": "stream",
     "text": [
      "celkem 12166 slov\n"
     ]
    },
    {
     "data": {
      "text/plain": [
       "['Investment',\n",
       " 'kokainový',\n",
       " 'západomoravský',\n",
       " 'Marvin',\n",
       " 'vyslovovat',\n",
       " 'stromový',\n",
       " 'přesilovka',\n",
       " 'škodlivý',\n",
       " 'řvát',\n",
       " 'Málková',\n",
       " 'přisvojit',\n",
       " 'divně',\n",
       " 'oponovat',\n",
       " 'celosvětový',\n",
       " 'pověrčivost',\n",
       " 'zavírat',\n",
       " 'infikovaný',\n",
       " 'reaktorový',\n",
       " 'bradavka',\n",
       " 'překontrolovat',\n",
       " 'předúnorový',\n",
       " 'důvěrník',\n",
       " 'Avery',\n",
       " 'tmavohnědý',\n",
       " 'Jevgenij',\n",
       " 'hypnotizovat',\n",
       " 'Ivo',\n",
       " 'čtyřmetrový',\n",
       " 'kloubový',\n",
       " 'prošpikovat',\n",
       " 'popuzovat',\n",
       " 'zkoumavě',\n",
       " 'druhový',\n",
       " 'Kravčuk',\n",
       " 'červenavě',\n",
       " 'Leggettová',\n",
       " 'Chramostová',\n",
       " 'opisování',\n",
       " 'podezřívavě',\n",
       " 'hlasivka',\n",
       " 'uzavíraný',\n",
       " 'vyměřovat',\n",
       " 'trvající',\n",
       " 'pozměňovat',\n",
       " 'narušovat',\n",
       " 'slitovat',\n",
       " 'Čapková',\n",
       " 'úlevný',\n",
       " 'jugoslávský',\n",
       " 'zdramatizovat']"
      ]
     },
     "execution_count": 21,
     "metadata": {},
     "output_type": "execute_result"
    }
   ],
   "source": [
    "nahodne(\"v\",pozice=\"uprostred\")"
   ]
  },
  {
   "cell_type": "code",
   "execution_count": 22,
   "id": "a3b6abbc",
   "metadata": {},
   "outputs": [
    {
     "name": "stdout",
     "output_type": "stream",
     "text": [
      "celkem 84 slov\n"
     ]
    },
    {
     "data": {
      "text/plain": [
       "['šéf',\n",
       " 'Gráf',\n",
       " 'biograf',\n",
       " 'graf',\n",
       " 'elf',\n",
       " 'Oberstdorf',\n",
       " 'Düsseldorf',\n",
       " 'prof',\n",
       " 'Varnsdorf',\n",
       " 'f',\n",
       " 'houf',\n",
       " 'uf',\n",
       " 'dvojskif',\n",
       " 'Rolf',\n",
       " 'rif',\n",
       " 'Gustaf',\n",
       " 'Kampf',\n",
       " 'turf',\n",
       " 'filozof',\n",
       " 'Ransdorf',\n",
       " 'demograf',\n",
       " 'Šlouf',\n",
       " 'tomograf',\n",
       " 'Hof',\n",
       " 'apokryf',\n",
       " 'sejf',\n",
       " 'hieroglyf',\n",
       " 'fotograf',\n",
       " 'Šaríf',\n",
       " 'Hornof',\n",
       " 'Alf',\n",
       " 'Jozef',\n",
       " 'Wolf',\n",
       " 'trumf',\n",
       " 'Graf',\n",
       " 'surf',\n",
       " 'paf',\n",
       " 'Ralf',\n",
       " 'If',\n",
       " 'József']"
      ]
     },
     "execution_count": 22,
     "metadata": {},
     "output_type": "execute_result"
    }
   ],
   "source": [
    "nahodne(\"f\",40,pozice=\"konec\")"
   ]
  },
  {
   "cell_type": "code",
   "execution_count": 24,
   "id": "c2b4441e",
   "metadata": {},
   "outputs": [
    {
     "name": "stdout",
     "output_type": "stream",
     "text": [
      "celkem 910 slov\n"
     ]
    },
    {
     "data": {
      "text/plain": [
       "['symfonie',\n",
       " 'fosforečný',\n",
       " 'reformovaný',\n",
       " 'Filadelfie',\n",
       " 'západoafrický',\n",
       " 'rafinérský',\n",
       " 'Kafka',\n",
       " 'preferovat',\n",
       " 'Rafsandžání',\n",
       " 'reflexivně',\n",
       " 'Pafko',\n",
       " 'scénografický',\n",
       " 'mančaft',\n",
       " 'Rudolfův',\n",
       " 'výfukový',\n",
       " 'Kafoňová',\n",
       " 'draftovat',\n",
       " 'doufat',\n",
       " 'ratifikační',\n",
       " 'hifi',\n",
       " 'šéfovat',\n",
       " 'Crawfordová',\n",
       " 'zatelefonovat',\n",
       " 'filosoficky',\n",
       " 'Mustafa',\n",
       " 'Zifčák',\n",
       " 'portfej',\n",
       " 'Dreyfus',\n",
       " 'demografie',\n",
       " 'Kraft',\n",
       " 'Josefína',\n",
       " 'Kufra',\n",
       " 'stratifikace',\n",
       " 'josefský',\n",
       " 'Alfa',\n",
       " 'triforium',\n",
       " 'nafilmovat',\n",
       " 'transfuzní',\n",
       " 'diferenční',\n",
       " 'deficitní',\n",
       " 'sgrafito',\n",
       " 'reliéfní',\n",
       " 'kvalifikovaně',\n",
       " 'cifra',\n",
       " 'filozofický',\n",
       " 'blafák',\n",
       " 'semifinálový',\n",
       " 'reflexivní',\n",
       " 'konference',\n",
       " 'Kaufmann']"
      ]
     },
     "execution_count": 24,
     "metadata": {},
     "output_type": "execute_result"
    }
   ],
   "source": [
    "nahodne(\"f\",50,pozice=\"uprostred\")"
   ]
  }
 ],
 "metadata": {
  "kernelspec": {
   "display_name": "Python 3 (ipykernel)",
   "language": "python",
   "name": "python3"
  },
  "language_info": {
   "codemirror_mode": {
    "name": "ipython",
    "version": 3
   },
   "file_extension": ".py",
   "mimetype": "text/x-python",
   "name": "python",
   "nbconvert_exporter": "python",
   "pygments_lexer": "ipython3",
   "version": "3.11.5"
  }
 },
 "nbformat": 4,
 "nbformat_minor": 5
}
