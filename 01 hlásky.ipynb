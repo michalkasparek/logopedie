{
 "cells": [
  {
   "cell_type": "code",
   "execution_count": 46,
   "id": "e08168a0",
   "metadata": {},
   "outputs": [],
   "source": [
    "import os"
   ]
  },
  {
   "cell_type": "code",
   "execution_count": 47,
   "id": "1df0816c",
   "metadata": {},
   "outputs": [],
   "source": [
    "with open(\"slova.txt\", \"r\", encoding=\"utf-8\") as slova:\n",
    "    words = slova.read().splitlines()"
   ]
  },
  {
   "cell_type": "code",
   "execution_count": 48,
   "id": "b40e5bca",
   "metadata": {},
   "outputs": [
    {
     "data": {
      "text/plain": [
       "138024"
      ]
     },
     "execution_count": 48,
     "metadata": {},
     "output_type": "execute_result"
    }
   ],
   "source": [
    "len(words)"
   ]
  },
  {
   "cell_type": "code",
   "execution_count": 49,
   "id": "952901c5",
   "metadata": {},
   "outputs": [],
   "source": [
    "def nahodne(hlaska, pocet=50, pozice=\"kdekoliv\", double=False):\n",
    "    import random\n",
    "    global words\n",
    "    delka = len(hlaska) \n",
    "    if pozice == \"zacatek\":\n",
    "        hlaskova_slova = [x for x in words if x[0:delka] == hlaska]\n",
    "    elif pozice == \"konec\":\n",
    "        hlaskova_slova = [x for x in words if x[-delka:] == hlaska]\n",
    "    else:\n",
    "        hlaskova_slova = [x for x in words if (hlaska in x)]\n",
    "    hlaskova_slova = [x for x in hlaskova_slova if f\"{hlaska}{hlaska}\" not in x]\n",
    "    if double:\n",
    "        hlaskova_slova = [x for x in hlaskova_slova if x.count(hlaska) >= 2]\n",
    "    print(f\"celkem {len(hlaskova_slova)} slov\")\n",
    "    if pocet > len(hlaskova_slova):\n",
    "        return hlaskova_slova\n",
    "    else:\n",
    "        return random.sample(hlaskova_slova, pocet)"
   ]
  },
  {
   "cell_type": "code",
   "execution_count": 50,
   "id": "e5ea0428",
   "metadata": {},
   "outputs": [
    {
     "name": "stdout",
     "output_type": "stream",
     "text": [
      "celkem 11989 slov\n"
     ]
    },
    {
     "data": {
      "text/plain": [
       "['věřía',\n",
       " 'vodničí',\n",
       " 'velice',\n",
       " 'vtiskujíc',\n",
       " 'vědérce',\n",
       " 'vyčasí',\n",
       " 'vyprávějícímu',\n",
       " 'vypařování',\n",
       " 'vyřešil',\n",
       " 'vysvítil',\n",
       " 'vobílit',\n",
       " 'vozovky',\n",
       " 'varovných',\n",
       " 'vajíčkách',\n",
       " 'viktorin',\n",
       " 'vyvracet',\n",
       " 'vyšitými',\n",
       " 'výhonek',\n",
       " 'vomeškala',\n",
       " 'výsluní',\n",
       " 'veslařů',\n",
       " 'vymkl',\n",
       " 'výklenku',\n",
       " 'vybreptl',\n",
       " 'vyždímala',\n",
       " 'vhodným',\n",
       " 'větří',\n",
       " 'vjedeme',\n",
       " 'vyžehlili',\n",
       " 'viditelně',\n",
       " 'vybudovat',\n",
       " 'vyříkal',\n",
       " 'všudykam',\n",
       " 'vantrokách',\n",
       " 'visely',\n",
       " 'vzpourou',\n",
       " 'vyplniti',\n",
       " 'vyplněna',\n",
       " 'vopovažujete',\n",
       " 'vládě',\n",
       " 'vzpomínati',\n",
       " 'vyhojte',\n",
       " 'vycházkou',\n",
       " 'vymlela',\n",
       " 'vepil',\n",
       " 'vyšeptalý',\n",
       " 'vrtěli',\n",
       " 'všechlap',\n",
       " 'vrbových',\n",
       " 'vztekaje']"
      ]
     },
     "execution_count": 50,
     "metadata": {},
     "output_type": "execute_result"
    }
   ],
   "source": [
    "nahodne(\"v\",pozice=\"zacatek\")"
   ]
  },
  {
   "cell_type": "code",
   "execution_count": 51,
   "id": "01545aa4",
   "metadata": {},
   "outputs": [
    {
     "name": "stdout",
     "output_type": "stream",
     "text": [
      "celkem 44644 slov\n"
     ]
    },
    {
     "data": {
      "text/plain": [
       "['žernovského',\n",
       " 'zvysoka',\n",
       " 'atlantové',\n",
       " 'benešova',\n",
       " 'vyjasňoval',\n",
       " 'tvrdými',\n",
       " 'děkovaly',\n",
       " 'vynahradíme',\n",
       " 'hecovaly',\n",
       " 'odhalovaly',\n",
       " 'doprošovat',\n",
       " 'varieta',\n",
       " 'vnuci',\n",
       " 'vizte',\n",
       " 'nevykradli',\n",
       " 'krvácejícím',\n",
       " 'korunovačním',\n",
       " 'vartuju',\n",
       " 'uzavřeli',\n",
       " 'vláskem',\n",
       " 'vychodím',\n",
       " 'vysočině',\n",
       " 'vsunují',\n",
       " 'vzepřený',\n",
       " 'pronásledovatelích',\n",
       " 'defilovali',\n",
       " 'prodavačů',\n",
       " 'oranžova',\n",
       " 'paskvil',\n",
       " 'rozmazlovat',\n",
       " 'dostavši',\n",
       " 'sousedstvu',\n",
       " 'převyšovala',\n",
       " 'zavazují',\n",
       " 'tildenovi',\n",
       " 'vítězí',\n",
       " 'kožišinovou',\n",
       " 'svíček',\n",
       " 'povědomosti',\n",
       " 'farářovou',\n",
       " 'odštěpování',\n",
       " 'evangelík',\n",
       " 'pravdaže',\n",
       " 'poloosvětlených',\n",
       " 'nunukova',\n",
       " 'vénovi',\n",
       " 'zvostatního',\n",
       " 'prodebatovat',\n",
       " 'vykrádán',\n",
       " 'utvořil']"
      ]
     },
     "execution_count": 51,
     "metadata": {},
     "output_type": "execute_result"
    }
   ],
   "source": [
    "nahodne(\"v\",pozice=\"uprostred\")"
   ]
  },
  {
   "cell_type": "code",
   "execution_count": 52,
   "id": "a3b6abbc",
   "metadata": {},
   "outputs": [
    {
     "name": "stdout",
     "output_type": "stream",
     "text": [
      "celkem 51 slov\n"
     ]
    },
    {
     "data": {
      "text/plain": [
       "['trumf',\n",
       " 'telegraf',\n",
       " 'pdf',\n",
       " 'katastrof',\n",
       " 'kryštof',\n",
       " 'rauf',\n",
       " 'mňááááuf',\n",
       " 'panešef',\n",
       " 'paragraf',\n",
       " 'biograf',\n",
       " 'rolf',\n",
       " 'haf',\n",
       " 'pucalkof',\n",
       " 'haaf',\n",
       " 'kardiograf',\n",
       " 'nif',\n",
       " 'hňaf',\n",
       " 'chief',\n",
       " 'šéf',\n",
       " 'pif',\n",
       " 'houf',\n",
       " 'ňauňauňáuf',\n",
       " 'podpif',\n",
       " 'hafhaf',\n",
       " 'palagraf',\n",
       " 'elf',\n",
       " 'háááf',\n",
       " 'josef',\n",
       " 'vaklaf',\n",
       " 'paf',\n",
       " 'najf',\n",
       " 'štráf',\n",
       " 'triumf',\n",
       " 'volf',\n",
       " 'piaf',\n",
       " 'tíjuf',\n",
       " 'adolf',\n",
       " 'hňauf',\n",
       " 'filozof',\n",
       " 'golf']"
      ]
     },
     "execution_count": 52,
     "metadata": {},
     "output_type": "execute_result"
    }
   ],
   "source": [
    "nahodne(\"f\",40,pozice=\"konec\")"
   ]
  },
  {
   "cell_type": "code",
   "execution_count": 53,
   "id": "2743c62b",
   "metadata": {},
   "outputs": [
    {
     "name": "stdout",
     "output_type": "stream",
     "text": [
      "celkem 11989 slov\n"
     ]
    },
    {
     "data": {
      "text/plain": [
       "['vzpamatovavši',\n",
       " 'vyskobit',\n",
       " 'včelka',\n",
       " 'větévkovitými',\n",
       " 'vodnatou',\n",
       " 'velkobobroveckou',\n",
       " 'vlněné',\n",
       " 'vachtýř',\n",
       " 'vlasatá',\n",
       " 'voňavý',\n",
       " 'vstane',\n",
       " 'výrůstek',\n",
       " 'výnos',\n",
       " 'vražda',\n",
       " 'vyškemravše',\n",
       " 'všechen',\n",
       " 'vyšlapanou',\n",
       " 'veřtatě',\n",
       " 'vlát',\n",
       " 'vlekouce']"
      ]
     },
     "execution_count": 53,
     "metadata": {},
     "output_type": "execute_result"
    }
   ],
   "source": [
    "nahodne(\"v\",20,pozice=\"zacatek\")"
   ]
  },
  {
   "cell_type": "code",
   "execution_count": 54,
   "id": "c2b4441e",
   "metadata": {},
   "outputs": [
    {
     "name": "stdout",
     "output_type": "stream",
     "text": [
      "celkem 4551 slov\n"
     ]
    },
    {
     "data": {
      "text/plain": [
       "['bleďoučkém',\n",
       " 'brousit',\n",
       " 'bratránka',\n",
       " 'bravo',\n",
       " 'bližšího',\n",
       " 'bomzulína',\n",
       " 'budislavi',\n",
       " 'búřka',\n",
       " 'brutálně',\n",
       " 'bližních',\n",
       " 'bydžov',\n",
       " 'bejvala',\n",
       " 'beli',\n",
       " 'bezohlednost',\n",
       " 'blůmo',\n",
       " 'buchtu',\n",
       " 'bídnej',\n",
       " 'boleníčko',\n",
       " 'brach',\n",
       " 'budoucím',\n",
       " 'bábě',\n",
       " 'bezpodmínečnou',\n",
       " 'barbarů',\n",
       " 'baťáku',\n",
       " 'bedlivé',\n",
       " 'básničku',\n",
       " 'běžících',\n",
       " 'barevných',\n",
       " 'bezpečnostních',\n",
       " 'brusinkové',\n",
       " 'boženy',\n",
       " 'blanické',\n",
       " 'barabiznu',\n",
       " 'bolševiku',\n",
       " 'bedřichu',\n",
       " 'běsné',\n",
       " 'brownii',\n",
       " 'bystroušku',\n",
       " 'benediktinských',\n",
       " 'bubeníky',\n",
       " 'bidlo',\n",
       " 'budižkničemům',\n",
       " 'bratří',\n",
       " 'býka',\n",
       " 'bleděmodrými',\n",
       " 'bavíváte',\n",
       " 'bohatnutí',\n",
       " 'blahopřejem',\n",
       " 'brabce',\n",
       " 'bořil']"
      ]
     },
     "execution_count": 54,
     "metadata": {},
     "output_type": "execute_result"
    }
   ],
   "source": [
    "nahodne(\"b\",50,pozice=\"zacatek\")"
   ]
  }
 ],
 "metadata": {
  "kernelspec": {
   "display_name": "Python 3 (ipykernel)",
   "language": "python",
   "name": "python3"
  },
  "language_info": {
   "codemirror_mode": {
    "name": "ipython",
    "version": 3
   },
   "file_extension": ".py",
   "mimetype": "text/x-python",
   "name": "python",
   "nbconvert_exporter": "python",
   "pygments_lexer": "ipython3",
   "version": "3.10.8"
  }
 },
 "nbformat": 4,
 "nbformat_minor": 5
}
