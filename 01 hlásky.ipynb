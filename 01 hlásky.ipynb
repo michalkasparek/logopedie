{
 "cells": [
  {
   "cell_type": "code",
   "execution_count": 1,
   "id": "e08168a0",
   "metadata": {},
   "outputs": [],
   "source": [
    "import os"
   ]
  },
  {
   "cell_type": "code",
   "execution_count": 2,
   "id": "1df0816c",
   "metadata": {},
   "outputs": [],
   "source": [
    "with open(\"slova.txt\", \"r\", encoding=\"utf-8\") as slova:\n",
    "    words = slova.read().splitlines()"
   ]
  },
  {
   "cell_type": "code",
   "execution_count": 3,
   "id": "b40e5bca",
   "metadata": {},
   "outputs": [
    {
     "data": {
      "text/plain": [
       "138024"
      ]
     },
     "execution_count": 3,
     "metadata": {},
     "output_type": "execute_result"
    }
   ],
   "source": [
    "len(words)"
   ]
  },
  {
   "cell_type": "code",
   "execution_count": 4,
   "id": "952901c5",
   "metadata": {},
   "outputs": [],
   "source": [
    "def nahodne(hlaska, pocet=50, pozice=\"kdekoliv\", double=False, bez=[\"\"]):\n",
    "    import random\n",
    "    global words\n",
    "    delka = len(hlaska) \n",
    "    if pozice == \"zacatek\":\n",
    "        hlaskova_slova = [x for x in words if x[0:delka] == hlaska]\n",
    "    elif pozice == \"konec\":\n",
    "        hlaskova_slova = [x for x in words if x[-delka:] == hlaska]\n",
    "    elif pozice == \"uprostred\":\n",
    "        hlaskova_slova = [x for x in words if (hlaska in x[1:-1])]\n",
    "    else:\n",
    "        hlaskova_slova = [x for x in words if (hlaska in x)]\n",
    "    hlaskova_slova = [x for x in hlaskova_slova if f\"{hlaska}{hlaska}\" not in x]\n",
    "    if double:\n",
    "        hlaskova_slova = [x for x in hlaskova_slova if x.count(hlaska) >= 2]\n",
    "    print(f\"celkem {len(hlaskova_slova)} slov\")\n",
    "    if bez != [\"\"]:\n",
    "        for b in bez:\n",
    "            hlaskova_slova = [x for x in hlaskova_slova if b not in x]\n",
    "    if pocet > len(hlaskova_slova):\n",
    "        return hlaskova_slova\n",
    "    else:\n",
    "        return random.sample(hlaskova_slova, pocet)"
   ]
  },
  {
   "cell_type": "code",
   "execution_count": 5,
   "id": "e5ea0428",
   "metadata": {},
   "outputs": [
    {
     "name": "stdout",
     "output_type": "stream",
     "text": [
      "celkem 78 slov\n"
     ]
    },
    {
     "data": {
      "text/plain": [
       "['filozofa',\n",
       " 'odfajfkujte',\n",
       " 'fifince',\n",
       " 'filozofu',\n",
       " 'fajfky',\n",
       " 'fajfka',\n",
       " 'fanufuti',\n",
       " 'fosfát',\n",
       " 'filozofií',\n",
       " 'fifleny',\n",
       " 'filozofující',\n",
       " 'filozofickou',\n",
       " 'filozofických',\n",
       " 'fukaofu',\n",
       " 'filozofů',\n",
       " 'filofloxové',\n",
       " 'fiflenu',\n",
       " 'fosfáty',\n",
       " 'hafhaf',\n",
       " 'fajfek',\n",
       " 'fifty',\n",
       " 'filosofa',\n",
       " 'fosfátových',\n",
       " 'filozofie',\n",
       " 'odfajfkovat',\n",
       " 'filozofem',\n",
       " 'filozofii',\n",
       " 'fajfku',\n",
       " 'filozofické',\n",
       " 'fajfkou',\n",
       " 'filozofové',\n",
       " 'filosofie',\n",
       " 'filozof',\n",
       " 'fajfčičku']"
      ]
     },
     "execution_count": 5,
     "metadata": {},
     "output_type": "execute_result"
    }
   ],
   "source": [
    "nahodne(\"f\",double=True, bez=['r','ř'])"
   ]
  },
  {
   "cell_type": "code",
   "execution_count": 6,
   "id": "01545aa4",
   "metadata": {},
   "outputs": [
    {
     "name": "stdout",
     "output_type": "stream",
     "text": [
      "celkem 34602 slov\n"
     ]
    },
    {
     "data": {
      "text/plain": [
       "['bedlivost',\n",
       " 'šťovíkových',\n",
       " 'uvažující',\n",
       " 'cypřišové',\n",
       " 'vyhrkává',\n",
       " 'panstva',\n",
       " 'vlnivě',\n",
       " 'laskava',\n",
       " 'nevymýšlejí',\n",
       " 'živnou',\n",
       " 'angelikové',\n",
       " 'odškrtával',\n",
       " 'objevem',\n",
       " 'králových',\n",
       " 'přitažlivější',\n",
       " 'strejčkovi',\n",
       " 'výcviku',\n",
       " 'ostrývku',\n",
       " 'trvalejší',\n",
       " 'pánovům',\n",
       " 'přihnojovat',\n",
       " 'svázat',\n",
       " 'zavazovala',\n",
       " 'zlověstně',\n",
       " 'takovýdle',\n",
       " 'obviněn',\n",
       " 'nenapověděly',\n",
       " 'rezovatá',\n",
       " 'větévce',\n",
       " 'lafontainovy',\n",
       " 'otočivše',\n",
       " 'zotavila',\n",
       " 'zacvakaly',\n",
       " 'sestávajíc',\n",
       " 'cvikem',\n",
       " 'slibovala',\n",
       " 'novomódní',\n",
       " 'rýžové',\n",
       " 'svatava',\n",
       " 'vysoustruhovanou',\n",
       " 'nevyhání',\n",
       " 'strhovat',\n",
       " 'napovědovou',\n",
       " 'nevidomým',\n",
       " 'slovák',\n",
       " 'odvesloval',\n",
       " 'rukavicemi',\n",
       " 'důvtipu',\n",
       " 'červenými',\n",
       " 'mlejnkových']"
      ]
     },
     "execution_count": 6,
     "metadata": {},
     "output_type": "execute_result"
    }
   ],
   "source": [
    "nahodne(\"v\",pozice=\"uprostred\")"
   ]
  },
  {
   "cell_type": "code",
   "execution_count": 7,
   "id": "a3b6abbc",
   "metadata": {},
   "outputs": [
    {
     "name": "stdout",
     "output_type": "stream",
     "text": [
      "celkem 51 slov\n"
     ]
    },
    {
     "data": {
      "text/plain": [
       "['telegraf',\n",
       " 'hňauf',\n",
       " 'mňáaauf',\n",
       " 'háááf',\n",
       " 'najf',\n",
       " 'hááááf',\n",
       " 'kardiograf',\n",
       " 'filozof',\n",
       " 'auf',\n",
       " 'haf',\n",
       " 'tíjuf',\n",
       " 'panešef',\n",
       " 'gróf',\n",
       " 'haaf',\n",
       " 'vorkáf',\n",
       " 'trumf',\n",
       " 'nif',\n",
       " 'trauf',\n",
       " 'žof',\n",
       " 'josef',\n",
       " 'kryštof',\n",
       " 'volf',\n",
       " 'elf',\n",
       " 'pdf',\n",
       " 'adolf',\n",
       " 'štráf',\n",
       " 'katastrof',\n",
       " 'podpif',\n",
       " 'raf',\n",
       " 'rolf',\n",
       " 'houf',\n",
       " 'rudolf',\n",
       " 'mňááááuf',\n",
       " 'triumf',\n",
       " 'hafhaf',\n",
       " 'rauf',\n",
       " 'paragraf',\n",
       " 'šéf',\n",
       " 'pucalkof',\n",
       " 'pif']"
      ]
     },
     "execution_count": 7,
     "metadata": {},
     "output_type": "execute_result"
    }
   ],
   "source": [
    "nahodne(\"f\",40,pozice=\"konec\")"
   ]
  },
  {
   "cell_type": "code",
   "execution_count": 8,
   "id": "cc6ab092",
   "metadata": {},
   "outputs": [
    {
     "data": {
      "text/plain": [
       "<function __main__.nahodne(hlaska, pocet=50, pozice='kdekoliv', double=False, bez=[''])>"
      ]
     },
     "execution_count": 8,
     "metadata": {},
     "output_type": "execute_result"
    }
   ],
   "source": [
    "nahodne"
   ]
  },
  {
   "cell_type": "code",
   "execution_count": 9,
   "id": "2743c62b",
   "metadata": {},
   "outputs": [
    {
     "name": "stdout",
     "output_type": "stream",
     "text": [
      "celkem 2519 slov\n"
     ]
    },
    {
     "data": {
      "text/plain": [
       "['futro',\n",
       " 'faimonem',\n",
       " 'financuje',\n",
       " 'francová',\n",
       " 'lafayette',\n",
       " 'refektáře',\n",
       " 'falářem',\n",
       " 'efekt',\n",
       " 'telefon',\n",
       " 'ofinu',\n",
       " 'zkonfiskována',\n",
       " 'filiálce',\n",
       " 'josefe',\n",
       " 'afrika',\n",
       " 'nif',\n",
       " 'serafínského',\n",
       " 'jihofrancouzské',\n",
       " 'fajst',\n",
       " 'káforky',\n",
       " 'uniformovaní',\n",
       " 'odfičelo',\n",
       " 'zafungovat',\n",
       " 'trefili',\n",
       " 'fysiky',\n",
       " 'fanóšku',\n",
       " 'franciscus',\n",
       " 'funkci',\n",
       " 'funusů',\n",
       " 'fáče',\n",
       " 'flanďáci',\n",
       " 'asfalt',\n",
       " 'zoufalců',\n",
       " 'fortny',\n",
       " 'rozfoukal',\n",
       " 'josefovském',\n",
       " 'fejeton',\n",
       " 'štafetu',\n",
       " 'feiglů',\n",
       " 'ciferníčkem',\n",
       " 'felix',\n",
       " 'faimonce',\n",
       " 'foxtrot',\n",
       " 'falka',\n",
       " 'fotoaparát',\n",
       " 'feudálními',\n",
       " 'oficínu',\n",
       " 'kafíčka',\n",
       " 'nefalšovaný',\n",
       " 'foxi',\n",
       " 'lucifer',\n",
       " 'reflektorů',\n",
       " 'fotbalisti',\n",
       " 'vyfintěný',\n",
       " 'filmu',\n",
       " 'fungují',\n",
       " 'nesfoukla',\n",
       " 'profese',\n",
       " 'faimonovu',\n",
       " 'hafajem',\n",
       " 'ferdík',\n",
       " 'fujtajbl',\n",
       " 'lucifera',\n",
       " 'frisco',\n",
       " 'foxlii',\n",
       " 'nefoukl',\n",
       " 'fandové',\n",
       " 'fáčoun',\n",
       " 'feuerbachovi',\n",
       " 'kufrů',\n",
       " 'vyflákla',\n",
       " 'francouzky',\n",
       " 'flit',\n",
       " 'zašrafoval',\n",
       " 'fuč',\n",
       " 'konfliktu',\n",
       " 'flinty',\n",
       " 'trofeje',\n",
       " 'harfu',\n",
       " 'rafii',\n",
       " 'factory']"
      ]
     },
     "execution_count": 9,
     "metadata": {},
     "output_type": "execute_result"
    }
   ],
   "source": [
    "nahodne(\"f\",80,pozice=\"stred\")"
   ]
  },
  {
   "cell_type": "code",
   "execution_count": 10,
   "id": "c2b4441e",
   "metadata": {},
   "outputs": [
    {
     "name": "stdout",
     "output_type": "stream",
     "text": [
      "celkem 1239 slov\n"
     ]
    },
    {
     "data": {
      "text/plain": [
       "['helfnul',\n",
       " 'fotografický',\n",
       " 'novofundlanďana',\n",
       " 'hafajovu',\n",
       " 'efdéjoťákem',\n",
       " 'vyflákla',\n",
       " 'krucifix',\n",
       " 'refýže',\n",
       " 'koflík',\n",
       " 'infikováni',\n",
       " 'profesionálky',\n",
       " 'luciferka',\n",
       " 'biografu',\n",
       " 'konfesí',\n",
       " 'nefalšovaný',\n",
       " 'alfonse',\n",
       " 'nestrefí',\n",
       " 'vyprofitovat',\n",
       " 'troufáš',\n",
       " 'dvacetifenik',\n",
       " 'fifty',\n",
       " 'vyfouknout',\n",
       " 'zafunělo',\n",
       " 'zoufání',\n",
       " 'lufťáka',\n",
       " 'kšefty',\n",
       " 'delfinií',\n",
       " 'reflexech',\n",
       " 'telegrafistky',\n",
       " 'šafáře',\n",
       " 'hofmistra',\n",
       " 'zadoufala',\n",
       " 'profesi',\n",
       " 'zafňukal',\n",
       " 'kramflíčkách',\n",
       " 'rafaj',\n",
       " 'rozflákané',\n",
       " 'aféra',\n",
       " 'safra',\n",
       " 'zafuněla',\n",
       " 'sfinze',\n",
       " 'nafty',\n",
       " 'fanufuti',\n",
       " 'kafrovou',\n",
       " 'táflováním',\n",
       " 'perfektně',\n",
       " 'naftu',\n",
       " 'zatelefonoval',\n",
       " 'oficínu',\n",
       " 'líbesbrýfů']"
      ]
     },
     "execution_count": 10,
     "metadata": {},
     "output_type": "execute_result"
    }
   ],
   "source": [
    "nahodne(\"f\",50,pozice=\"uprostred\")"
   ]
  }
 ],
 "metadata": {
  "kernelspec": {
   "display_name": "Python 3 (ipykernel)",
   "language": "python",
   "name": "python3"
  },
  "language_info": {
   "codemirror_mode": {
    "name": "ipython",
    "version": 3
   },
   "file_extension": ".py",
   "mimetype": "text/x-python",
   "name": "python",
   "nbconvert_exporter": "python",
   "pygments_lexer": "ipython3",
   "version": "3.11.5"
  }
 },
 "nbformat": 4,
 "nbformat_minor": 5
}
