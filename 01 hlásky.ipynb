{
 "cells": [
  {
   "cell_type": "code",
   "execution_count": 36,
   "id": "e08168a0",
   "metadata": {},
   "outputs": [],
   "source": [
    "import os"
   ]
  },
  {
   "cell_type": "code",
   "execution_count": 37,
   "id": "1df0816c",
   "metadata": {},
   "outputs": [],
   "source": [
    "with open(\"slova_z_korpusu.txt\", \"r\", encoding=\"utf-8\") as slova:\n",
    "    words = slova.read().splitlines()"
   ]
  },
  {
   "cell_type": "code",
   "execution_count": 38,
   "id": "b40e5bca",
   "metadata": {},
   "outputs": [
    {
     "data": {
      "text/plain": [
       "118108"
      ]
     },
     "execution_count": 38,
     "metadata": {},
     "output_type": "execute_result"
    }
   ],
   "source": [
    "len(words)"
   ]
  },
  {
   "cell_type": "code",
   "execution_count": 39,
   "id": "952901c5",
   "metadata": {},
   "outputs": [],
   "source": [
    "def nahodne(hlaska, pocet=50, pozice=\"kdekoliv\", double=False, bez=[\"\"]):\n",
    "    import random\n",
    "    global words\n",
    "    delka = len(hlaska) \n",
    "    if pozice == \"zacatek\":\n",
    "        hlaskova_slova = [x for x in words if x[0:delka] == hlaska]\n",
    "    elif pozice == \"konec\":\n",
    "        hlaskova_slova = [x for x in words if x[-delka:] == hlaska]\n",
    "    elif pozice == \"uprostred\":\n",
    "        hlaskova_slova = [x for x in words if (hlaska in x[1:-1])]\n",
    "    else:\n",
    "        hlaskova_slova = [x for x in words if (hlaska in x)]\n",
    "    hlaskova_slova = [x for x in hlaskova_slova if f\"{hlaska}{hlaska}\" not in x]\n",
    "    if double:\n",
    "        hlaskova_slova = [x for x in hlaskova_slova if x.count(hlaska) >= 2]\n",
    "    print(f\"celkem {len(hlaskova_slova)} slov\")\n",
    "    if bez != [\"\"]:\n",
    "        for b in bez:\n",
    "            hlaskova_slova = [x for x in hlaskova_slova if b not in x]\n",
    "    if pocet > len(hlaskova_slova):\n",
    "        return hlaskova_slova\n",
    "    else:\n",
    "        return random.sample(hlaskova_slova, pocet)"
   ]
  },
  {
   "cell_type": "code",
   "execution_count": 40,
   "id": "e5ea0428",
   "metadata": {},
   "outputs": [
    {
     "name": "stdout",
     "output_type": "stream",
     "text": [
      "celkem 92 slov\n"
     ]
    },
    {
     "data": {
      "text/plain": [
       "['bisfosfonát',\n",
       " 'filosofický',\n",
       " 'filozofování',\n",
       " 'fosfolipáza',\n",
       " 'fajfka',\n",
       " 'Bischofshofen',\n",
       " 'zafilozofovat',\n",
       " 'filosofovat',\n",
       " 'filozofický',\n",
       " 'Kaufhof',\n",
       " 'Mefistofeles',\n",
       " 'filosofující',\n",
       " 'fiftýn',\n",
       " 'filozofka',\n",
       " 'filozofův',\n",
       " 'falzifikovatelnost',\n",
       " 'fosfát',\n",
       " 'filozof',\n",
       " 'filosofování',\n",
       " 'falzifikace',\n",
       " 'Afáf',\n",
       " 'Leftfield',\n",
       " 'softsexyfilm',\n",
       " 'Mefistofelův',\n",
       " 'fosfatáza',\n",
       " 'filosoficky',\n",
       " 'filozofie',\n",
       " 'fosfolipid',\n",
       " 'cyklofosfamid',\n",
       " 'filadelfský',\n",
       " 'filozofující',\n",
       " 'fosfátový',\n",
       " 'filozoficky',\n",
       " 'falzifikát',\n",
       " 'filosofský',\n",
       " 'bezfosfátový',\n",
       " 'filozofovat',\n",
       " 'falzifikovat',\n",
       " 'fifty',\n",
       " 'fiflena',\n",
       " 'Luftflotte']"
      ]
     },
     "execution_count": 40,
     "metadata": {},
     "output_type": "execute_result"
    }
   ],
   "source": [
    "nahodne(\"f\",double=True, bez=['r','ř'])"
   ]
  },
  {
   "cell_type": "code",
   "execution_count": 41,
   "id": "01545aa4",
   "metadata": {},
   "outputs": [
    {
     "name": "stdout",
     "output_type": "stream",
     "text": [
      "celkem 29397 slov\n"
     ]
    },
    {
     "data": {
      "text/plain": [
       "['dealerství',\n",
       " 'moderovat',\n",
       " 'konzervativně',\n",
       " 'Kvítek',\n",
       " 'deklasovat',\n",
       " 'novak',\n",
       " 'Gavriljuková',\n",
       " 'Sandvik',\n",
       " 'násuvný',\n",
       " 'vyřezávat',\n",
       " 'rusovlasý',\n",
       " 'Elvström',\n",
       " 'odchovný',\n",
       " 'cvakat',\n",
       " 'schválně',\n",
       " 'Buchlovice',\n",
       " 'závažný',\n",
       " 'rozválený',\n",
       " 'vyučovací',\n",
       " 'povzbudit',\n",
       " 'schvácený',\n",
       " 'upgradovat',\n",
       " 'uvalit',\n",
       " 'vyprodávat',\n",
       " 'potiskování',\n",
       " 'lirový',\n",
       " 'travertin',\n",
       " 'půlkilový',\n",
       " 'přiváděný',\n",
       " 'severoevropský',\n",
       " 'Pivečka',\n",
       " 'opevňovací',\n",
       " 'trávicí',\n",
       " 'vtrhávat',\n",
       " 'vypařování',\n",
       " 'asanovat',\n",
       " 'Jandíková',\n",
       " 'přemosťovat',\n",
       " 'zamaskovat',\n",
       " 'podloudnictví',\n",
       " 'privátní',\n",
       " 'Svratouch',\n",
       " 'tyčovina',\n",
       " 'cukrovarník',\n",
       " 'jednadvacetiletý',\n",
       " 'přečíslovat',\n",
       " 'plynovod',\n",
       " 'přehlušovat',\n",
       " 'proskribovaný',\n",
       " 'svíjet']"
      ]
     },
     "execution_count": 41,
     "metadata": {},
     "output_type": "execute_result"
    }
   ],
   "source": [
    "nahodne(\"v\",pozice=\"uprostred\")"
   ]
  },
  {
   "cell_type": "code",
   "execution_count": 42,
   "id": "a3b6abbc",
   "metadata": {},
   "outputs": [
    {
     "name": "stdout",
     "output_type": "stream",
     "text": [
      "celkem 242 slov\n"
     ]
    },
    {
     "data": {
      "text/plain": [
       "['Rauvolf',\n",
       " 'Ulf',\n",
       " 'Arnulf',\n",
       " 'epitaf',\n",
       " 'Golf',\n",
       " 'hieroglyf',\n",
       " 'Woolf',\n",
       " 'morf',\n",
       " 'Oberhof',\n",
       " 'Inf',\n",
       " 'Raf',\n",
       " 'Mansdorf',\n",
       " 'Šaldorf',\n",
       " 'rostbíf',\n",
       " 'Krauskopf',\n",
       " 'Half',\n",
       " 'reliéf',\n",
       " 'rúf',\n",
       " 'Josif',\n",
       " 'Hauptbahnhof',\n",
       " 'šéf',\n",
       " 'turf',\n",
       " 'typograf',\n",
       " 'Wolf',\n",
       " 'Gráf',\n",
       " 'Júsuf',\n",
       " 'litograf',\n",
       " 'prof',\n",
       " 'Grosskopf',\n",
       " 'seraf',\n",
       " 'Hochtief',\n",
       " 'Štrof',\n",
       " 'Jozef',\n",
       " 'jif',\n",
       " 'Greif',\n",
       " 'filozof',\n",
       " 'paragraf',\n",
       " 'Frühauf',\n",
       " 'golf',\n",
       " 'Def']"
      ]
     },
     "execution_count": 42,
     "metadata": {},
     "output_type": "execute_result"
    }
   ],
   "source": [
    "nahodne(\"f\",40,pozice=\"konec\")"
   ]
  },
  {
   "cell_type": "code",
   "execution_count": 43,
   "id": "c2b4441e",
   "metadata": {},
   "outputs": [
    {
     "name": "stdout",
     "output_type": "stream",
     "text": [
      "celkem 2663 slov\n"
     ]
    },
    {
     "data": {
      "text/plain": [
       "['tifosi',\n",
       " 'Toftiru',\n",
       " 'prefabrikovaný',\n",
       " 'kvalifikant',\n",
       " 'centrifugace',\n",
       " 'nefér',\n",
       " 'Stefano',\n",
       " 'Mumford',\n",
       " 'Stefania',\n",
       " 'Mikrofórum',\n",
       " 'severoafrický',\n",
       " 'perfektum',\n",
       " 'zformování',\n",
       " 'epigrafický',\n",
       " 'definování',\n",
       " 'odfouknout',\n",
       " 'osmifinále',\n",
       " 'sifónový',\n",
       " 'hemisféra',\n",
       " 'Goofy',\n",
       " 'Safíja',\n",
       " 'rekodifikace',\n",
       " 'Rafaja',\n",
       " 'Beresford',\n",
       " 'Défense',\n",
       " 'perzifláž',\n",
       " 'Arafátův',\n",
       " 'nefron',\n",
       " 'Colorfactory',\n",
       " 'Surfers',\n",
       " 'zprofesionalizovat',\n",
       " 'efektně',\n",
       " 'aminotransferáza',\n",
       " 'trafikant',\n",
       " 'Knife',\n",
       " 'geofyzik',\n",
       " 'refinancovat',\n",
       " 'ofenzívně',\n",
       " 'Agfa',\n",
       " 'kinematografie',\n",
       " 'sofista',\n",
       " 'euforický',\n",
       " 'sgrafitový',\n",
       " 'zfalšovat',\n",
       " 'Lightfoot',\n",
       " 'certifikační',\n",
       " 'mystifikující',\n",
       " 'VfB',\n",
       " 'Trefný',\n",
       " 'infantilita']"
      ]
     },
     "execution_count": 43,
     "metadata": {},
     "output_type": "execute_result"
    }
   ],
   "source": [
    "nahodne(\"f\",50,pozice=\"uprostred\")"
   ]
  }
 ],
 "metadata": {
  "kernelspec": {
   "display_name": "Python 3 (ipykernel)",
   "language": "python",
   "name": "python3"
  },
  "language_info": {
   "codemirror_mode": {
    "name": "ipython",
    "version": 3
   },
   "file_extension": ".py",
   "mimetype": "text/x-python",
   "name": "python",
   "nbconvert_exporter": "python",
   "pygments_lexer": "ipython3",
   "version": "3.11.5"
  }
 },
 "nbformat": 4,
 "nbformat_minor": 5
}
