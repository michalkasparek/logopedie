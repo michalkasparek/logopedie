{
 "cells": [
  {
   "cell_type": "code",
   "execution_count": 1,
   "id": "e08168a0",
   "metadata": {},
   "outputs": [],
   "source": [
    "import os"
   ]
  },
  {
   "cell_type": "code",
   "execution_count": 2,
   "id": "1df0816c",
   "metadata": {},
   "outputs": [],
   "source": [
    "with open(\"slova.txt\", \"r\", encoding=\"utf-8\") as slova:\n",
    "    words = slova.read().splitlines()"
   ]
  },
  {
   "cell_type": "code",
   "execution_count": 3,
   "id": "b40e5bca",
   "metadata": {},
   "outputs": [
    {
     "data": {
      "text/plain": [
       "138024"
      ]
     },
     "execution_count": 3,
     "metadata": {},
     "output_type": "execute_result"
    }
   ],
   "source": [
    "len(words)"
   ]
  },
  {
   "cell_type": "code",
   "execution_count": 25,
   "id": "952901c5",
   "metadata": {},
   "outputs": [],
   "source": [
    "def nahodne(hlaska, pocet=50, pozice=\"kdekoliv\", double=False, bez=[\"\"]):\n",
    "    import random\n",
    "    global words\n",
    "    delka = len(hlaska) \n",
    "    if pozice == \"zacatek\":\n",
    "        hlaskova_slova = [x for x in words if x[0:delka] == hlaska]\n",
    "    elif pozice == \"konec\":\n",
    "        hlaskova_slova = [x for x in words if x[-delka:] == hlaska]\n",
    "    elif pozice == \"uprostred\":\n",
    "        hlaskova_slova = [x for x in words if (hlaska in x[1:-1])]\n",
    "    else:\n",
    "        hlaskova_slova = [x for x in words if (hlaska in x)]\n",
    "    hlaskova_slova = [x for x in hlaskova_slova if f\"{hlaska}{hlaska}\" not in x]\n",
    "    if double:\n",
    "        hlaskova_slova = [x for x in hlaskova_slova if x.count(hlaska) >= 2]\n",
    "    print(f\"celkem {len(hlaskova_slova)} slov\")\n",
    "    if bez != [\"\"]:\n",
    "        for b in bez:\n",
    "            hlaskova_slova = [x for x in hlaskova_slova if b not in x]\n",
    "    if pocet > len(hlaskova_slova):\n",
    "        return hlaskova_slova\n",
    "    else:\n",
    "        return random.sample(hlaskova_slova, pocet)"
   ]
  },
  {
   "cell_type": "code",
   "execution_count": 27,
   "id": "e5ea0428",
   "metadata": {},
   "outputs": [
    {
     "name": "stdout",
     "output_type": "stream",
     "text": [
      "celkem 78 slov\n"
     ]
    },
    {
     "data": {
      "text/plain": [
       "['filozofa',\n",
       " 'odfajfkujte',\n",
       " 'fifince',\n",
       " 'filozofu',\n",
       " 'fajfky',\n",
       " 'fajfka',\n",
       " 'fanufuti',\n",
       " 'fosfát',\n",
       " 'filozofií',\n",
       " 'fifleny',\n",
       " 'filozofující',\n",
       " 'filozofickou',\n",
       " 'filozofických',\n",
       " 'fukaofu',\n",
       " 'filozofů',\n",
       " 'filofloxové',\n",
       " 'fiflenu',\n",
       " 'fosfáty',\n",
       " 'hafhaf',\n",
       " 'fajfek',\n",
       " 'fifty',\n",
       " 'filosofa',\n",
       " 'fosfátových',\n",
       " 'filozofie',\n",
       " 'odfajfkovat',\n",
       " 'filozofem',\n",
       " 'filozofii',\n",
       " 'fajfku',\n",
       " 'filozofické',\n",
       " 'fajfkou',\n",
       " 'filozofové',\n",
       " 'filosofie',\n",
       " 'filozof',\n",
       " 'fajfčičku']"
      ]
     },
     "execution_count": 27,
     "metadata": {},
     "output_type": "execute_result"
    }
   ],
   "source": [
    "nahodne(\"f\",double=True, bez=['r','ř'])"
   ]
  },
  {
   "cell_type": "code",
   "execution_count": 6,
   "id": "01545aa4",
   "metadata": {},
   "outputs": [
    {
     "name": "stdout",
     "output_type": "stream",
     "text": [
      "celkem 44644 slov\n"
     ]
    },
    {
     "data": {
      "text/plain": [
       "['valit',\n",
       " 'jalovinu',\n",
       " 'podivuhodném',\n",
       " 'pitevny',\n",
       " 'namluvíme',\n",
       " 'pravými',\n",
       " 'voděj',\n",
       " 'bičoval',\n",
       " 'vědi',\n",
       " 'vlastními',\n",
       " 'vyzdvihl',\n",
       " 'divení',\n",
       " 'duhových',\n",
       " 'vřesové',\n",
       " 'proceství',\n",
       " 'oravě',\n",
       " 'vztáhly',\n",
       " 'televizi',\n",
       " 'věnců',\n",
       " 'omývaly',\n",
       " 'ostrývce',\n",
       " 'bitevního',\n",
       " 'zamávat',\n",
       " 'pakostových',\n",
       " 'spraví',\n",
       " 'velkomyslně',\n",
       " 'vzpínalo',\n",
       " 'používali',\n",
       " 'viky',\n",
       " 'bláznivou',\n",
       " 'povysune',\n",
       " 'fredovi',\n",
       " 'sodovkář',\n",
       " 'ukončoval',\n",
       " 'chlácholivé',\n",
       " 'žhavých',\n",
       " 'bojkotován',\n",
       " 'shakespearova',\n",
       " 'vykvartýrovat',\n",
       " 'vytahujete',\n",
       " 'svobodua',\n",
       " 'zpěvník',\n",
       " 'mrtvé',\n",
       " 'zbarvené',\n",
       " 'vydělávat',\n",
       " 'vyměnilo',\n",
       " 'dopravy',\n",
       " 'citronovité',\n",
       " 'zvolňovaly',\n",
       " 'zvětšuju']"
      ]
     },
     "execution_count": 6,
     "metadata": {},
     "output_type": "execute_result"
    }
   ],
   "source": [
    "nahodne(\"v\",pozice=\"uprostred\")"
   ]
  },
  {
   "cell_type": "code",
   "execution_count": 10,
   "id": "a3b6abbc",
   "metadata": {},
   "outputs": [
    {
     "name": "stdout",
     "output_type": "stream",
     "text": [
      "celkem 51 slov\n"
     ]
    },
    {
     "data": {
      "text/plain": [
       "['golf',\n",
       " 'palagraf',\n",
       " 'fotograf',\n",
       " 'mňáaauf',\n",
       " 'gróf',\n",
       " 'pucalkof',\n",
       " 'podpif',\n",
       " 'volf',\n",
       " 'piaf',\n",
       " 'rudolf',\n",
       " 'háááf',\n",
       " 'najf',\n",
       " 'kardiograf',\n",
       " 'kryštof',\n",
       " 'trumf',\n",
       " 'katastrof',\n",
       " 'šéf',\n",
       " 'telegraf',\n",
       " 'hňaf',\n",
       " 'auf',\n",
       " 'pdf',\n",
       " 'žof',\n",
       " 'nif',\n",
       " 'vorkáf',\n",
       " 'hááááf',\n",
       " 'mňááááuf',\n",
       " 'houf',\n",
       " 'tíjuf',\n",
       " 'štráf',\n",
       " 'trauf',\n",
       " 'haaf',\n",
       " 'hňauf',\n",
       " 'biograf',\n",
       " 'rauf',\n",
       " 'ňauňauňáuf',\n",
       " 'josef',\n",
       " 'triumf',\n",
       " 'paf',\n",
       " 'raf',\n",
       " 'haf']"
      ]
     },
     "execution_count": 10,
     "metadata": {},
     "output_type": "execute_result"
    }
   ],
   "source": [
    "nahodne(\"f\",40,pozice=\"konec\")"
   ]
  },
  {
   "cell_type": "code",
   "execution_count": 16,
   "id": "cc6ab092",
   "metadata": {},
   "outputs": [
    {
     "data": {
      "text/plain": [
       "<function __main__.nahodne(hlaska, pocet=50, pozice='kdekoliv', double=False)>"
      ]
     },
     "execution_count": 16,
     "metadata": {},
     "output_type": "execute_result"
    }
   ],
   "source": [
    "nahodne"
   ]
  },
  {
   "cell_type": "code",
   "execution_count": 19,
   "id": "2743c62b",
   "metadata": {},
   "outputs": [
    {
     "name": "stdout",
     "output_type": "stream",
     "text": [
      "celkem 2519 slov\n"
     ]
    },
    {
     "data": {
      "text/plain": [
       "['žofka',\n",
       " 'falešný',\n",
       " 'troufal',\n",
       " 'fireball',\n",
       " 'fakír',\n",
       " 'žofkou',\n",
       " 'šafránu',\n",
       " 'filmovou',\n",
       " 'francisku',\n",
       " 'frrnk',\n",
       " 'harfa',\n",
       " 'štemflíkůpřichystaných',\n",
       " 'konferencí',\n",
       " 'flaši',\n",
       " 'zafungovat',\n",
       " 'houfcem',\n",
       " 'fáry',\n",
       " 'šlofikutě',\n",
       " 'žofíně',\n",
       " 'foxe',\n",
       " 'funěním',\n",
       " 'neprofláklo',\n",
       " 'knoflíčky',\n",
       " 'šafáři',\n",
       " 'folimanka',\n",
       " 'reformních',\n",
       " 'fosforem',\n",
       " 'fňukal',\n",
       " 'fahrdienstleiter',\n",
       " 'fogo',\n",
       " 'konferenciérka',\n",
       " 'falešníci',\n",
       " 'ciferník',\n",
       " 'funusem',\n",
       " 'francouze',\n",
       " 'informovaný',\n",
       " 'fortel',\n",
       " 'fontáně',\n",
       " 'telefonovali',\n",
       " 'filmovali',\n",
       " 'vybafnout',\n",
       " 'žofička',\n",
       " 'fine',\n",
       " 'flíček',\n",
       " 'folklór',\n",
       " 'knoflíčkem',\n",
       " 'netroufám',\n",
       " 'zafrkali',\n",
       " 'fyzikem',\n",
       " 'filmu',\n",
       " 'rozšafní',\n",
       " 'kliftonky',\n",
       " 'telegrafickou',\n",
       " 'konfliktů',\n",
       " 'kvalifikovat',\n",
       " 'ferdinanda',\n",
       " 'foxlíka',\n",
       " 'šéfové',\n",
       " 'kšeftě',\n",
       " 'šafuje',\n",
       " 'vxfstehrgnd',\n",
       " 'frantíkově',\n",
       " 'pamflet',\n",
       " 'josefovském',\n",
       " 'fraxini',\n",
       " 'flétna',\n",
       " 'delfínů',\n",
       " 'profous',\n",
       " 'forotu',\n",
       " 'flinto',\n",
       " 'flajšhans',\n",
       " 'fortelu',\n",
       " 'defoe',\n",
       " 'dienzenhofer',\n",
       " 'vyfotografovali',\n",
       " 'cbynfhryt',\n",
       " 'periférie',\n",
       " 'filozofa',\n",
       " 'frnčí',\n",
       " 'figura']"
      ]
     },
     "execution_count": 19,
     "metadata": {},
     "output_type": "execute_result"
    }
   ],
   "source": [
    "nahodne(\"f\",80,pozice=\"stred\")"
   ]
  },
  {
   "cell_type": "code",
   "execution_count": 20,
   "id": "c2b4441e",
   "metadata": {},
   "outputs": [
    {
     "name": "stdout",
     "output_type": "stream",
     "text": [
      "celkem 2519 slov\n"
     ]
    },
    {
     "data": {
      "text/plain": [
       "['defektu',\n",
       " 'finda',\n",
       " 'elroeprjfdnčýř',\n",
       " 'telegrafujte',\n",
       " 'folimanka',\n",
       " 'farníků',\n",
       " 'passendorfer',\n",
       " 'zkonfiskoval',\n",
       " 'foukačkou',\n",
       " 'floriána',\n",
       " 'šafránek',\n",
       " 'formičky',\n",
       " 'šoféři',\n",
       " 'harafička',\n",
       " 'netrefili',\n",
       " 'šéfama',\n",
       " 'josefovem',\n",
       " 'francouza',\n",
       " 'ježíšmarjájosefe',\n",
       " 'fórum',\n",
       " 'funguje',\n",
       " 'fortelu',\n",
       " 'fikla',\n",
       " 'rozšafného',\n",
       " 'nafilmovala',\n",
       " 'ofoukané',\n",
       " 'šafářovým',\n",
       " 'foukací',\n",
       " 'štefu',\n",
       " 'fraktura',\n",
       " 'nefoukali',\n",
       " 'freda',\n",
       " 'katastrofa',\n",
       " 'friedmanna',\n",
       " 'podpif',\n",
       " 'oficiálně',\n",
       " 'frrrrnk',\n",
       " 'trofejí',\n",
       " 'foxlů',\n",
       " 'fascinované',\n",
       " 'fuiíííu',\n",
       " 'profesionálku',\n",
       " 'reflektor',\n",
       " 'rozfoukali',\n",
       " 'telefonními',\n",
       " 'houfec',\n",
       " 'troufali',\n",
       " 'fukaofu',\n",
       " 'fáru',\n",
       " 'forzýtie']"
      ]
     },
     "execution_count": 20,
     "metadata": {},
     "output_type": "execute_result"
    }
   ],
   "source": [
    "nahodne(\"f\",50,pozice=\"uprostred\")"
   ]
  }
 ],
 "metadata": {
  "kernelspec": {
   "display_name": "Python 3 (ipykernel)",
   "language": "python",
   "name": "python3"
  },
  "language_info": {
   "codemirror_mode": {
    "name": "ipython",
    "version": 3
   },
   "file_extension": ".py",
   "mimetype": "text/x-python",
   "name": "python",
   "nbconvert_exporter": "python",
   "pygments_lexer": "ipython3",
   "version": "3.11.5"
  }
 },
 "nbformat": 4,
 "nbformat_minor": 5
}
