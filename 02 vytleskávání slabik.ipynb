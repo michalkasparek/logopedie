{
 "cells": [
  {
   "cell_type": "code",
   "execution_count": 39,
   "id": "cea900c7",
   "metadata": {},
   "outputs": [],
   "source": [
    "import os"
   ]
  },
  {
   "cell_type": "code",
   "execution_count": 60,
   "id": "00ea2619",
   "metadata": {},
   "outputs": [],
   "source": [
    "with open(\"slova_z_korpusu_10k.txt\", \"r\", encoding=\"utf-8\") as slova:\n",
    "    words = slova.read().splitlines()"
   ]
  },
  {
   "cell_type": "code",
   "execution_count": 61,
   "id": "0626ed7b",
   "metadata": {},
   "outputs": [
    {
     "data": {
      "text/plain": [
       "9832"
      ]
     },
     "execution_count": 61,
     "metadata": {},
     "output_type": "execute_result"
    }
   ],
   "source": [
    "len(words)"
   ]
  },
  {
   "cell_type": "code",
   "execution_count": 62,
   "id": "7e5102ca",
   "metadata": {},
   "outputs": [],
   "source": [
    "samohlasky = [\"a\",\"e\",\"i\",\"o\",\"u\",\"á\",\"é\",\"ě\",\"í\",\"ó\",\"ú\",\"ů\",\"y\",\"ý\"]"
   ]
  },
  {
   "cell_type": "code",
   "execution_count": 63,
   "id": "f66f56f9",
   "metadata": {},
   "outputs": [],
   "source": [
    "def pocet_samohlasek(slovo):\n",
    "    global samohlasky\n",
    "    samohlasek = 0\n",
    "    for s in samohlasky:\n",
    "        samohlasek = samohlasek + slovo.count(s)\n",
    "    return samohlasek"
   ]
  },
  {
   "cell_type": "code",
   "execution_count": 64,
   "id": "53ddff50",
   "metadata": {},
   "outputs": [],
   "source": [
    "import random"
   ]
  },
  {
   "cell_type": "code",
   "execution_count": 65,
   "id": "fb3f0bfc",
   "metadata": {},
   "outputs": [],
   "source": [
    "def delka(pocetsamohlasek):\n",
    "    pocet = 30\n",
    "    seznam = [x for x in words if (pocet_samohlasek(x) == pocetsamohlasek) and ('-' not in x)]\n",
    "    if len(seznam) <= pocet:\n",
    "        return(seznam)\n",
    "    else:\n",
    "        return random.sample(seznam, pocet)"
   ]
  },
  {
   "cell_type": "code",
   "execution_count": 66,
   "id": "d1d147b9",
   "metadata": {},
   "outputs": [
    {
     "data": {
      "text/plain": [
       "['žaloba',\n",
       " 'chronický',\n",
       " 'zničený',\n",
       " 'ovlivnit',\n",
       " 'slibovat',\n",
       " 'chudoba',\n",
       " 'hladina',\n",
       " 'předloha',\n",
       " 'přeměnit',\n",
       " 'Daniel',\n",
       " 'sloupec',\n",
       " 'ukrývat',\n",
       " 'odvážný',\n",
       " 'hlediště',\n",
       " 'vědomost',\n",
       " 'metoda',\n",
       " 'Bavorsko',\n",
       " 'citlivý',\n",
       " 'kilometr',\n",
       " 'Jablonec',\n",
       " 'revize',\n",
       " 'Beránek',\n",
       " 'přátelsky',\n",
       " 'pořádek',\n",
       " 'takzvaný',\n",
       " 'obrazec',\n",
       " 'nezbytně',\n",
       " 'sestřička',\n",
       " 'jednička',\n",
       " 'milión']"
      ]
     },
     "execution_count": 66,
     "metadata": {},
     "output_type": "execute_result"
    }
   ],
   "source": [
    "delka(3)"
   ]
  },
  {
   "cell_type": "code",
   "execution_count": 67,
   "id": "0dcd4e15",
   "metadata": {},
   "outputs": [
    {
     "data": {
      "text/plain": [
       "['soutěžit',\n",
       " 'připomínka',\n",
       " 'bezpochyby',\n",
       " 'teorie',\n",
       " 'specifický',\n",
       " 'konzervatoř',\n",
       " 'National',\n",
       " 'sympatický',\n",
       " 'opoziční',\n",
       " 'vyzvednout',\n",
       " 'distribuční',\n",
       " 'poloviční',\n",
       " 'omezený',\n",
       " 'historicky',\n",
       " 'zaměstnanec',\n",
       " 'rozšířený',\n",
       " 'nahrazovat',\n",
       " 'produktivní',\n",
       " 'porovnávat',\n",
       " 'poslechnout',\n",
       " 'odpočinek',\n",
       " 'autorka',\n",
       " 'nostalgie',\n",
       " 'takovýhle',\n",
       " 'výjimečný',\n",
       " 'bezvědomí',\n",
       " 'miliarda',\n",
       " 'provozovat',\n",
       " 'pardubický',\n",
       " 'minimálně']"
      ]
     },
     "execution_count": 67,
     "metadata": {},
     "output_type": "execute_result"
    }
   ],
   "source": [
    "delka(4)"
   ]
  },
  {
   "cell_type": "code",
   "execution_count": 68,
   "id": "481f6a98",
   "metadata": {},
   "outputs": [
    {
     "data": {
      "text/plain": [
       "['ojedinělý',\n",
       " 'vyloučený',\n",
       " 'kategorie',\n",
       " 'opakovaný',\n",
       " 'matematický',\n",
       " 'nezaměstnaný',\n",
       " 'podivuhodný',\n",
       " 'vyšetřovatel',\n",
       " 'mikroprocesor',\n",
       " 'onemocnění',\n",
       " 'extraligový',\n",
       " 'festivalový',\n",
       " 'koupaliště',\n",
       " 'filozofie',\n",
       " 'intelektuál',\n",
       " 'ekonomický',\n",
       " 'systematický',\n",
       " 'novelizace',\n",
       " 'energetika',\n",
       " 'zaměstnanecký',\n",
       " 'připojištění',\n",
       " 'zanedlouho',\n",
       " 'pokračující',\n",
       " 'homosexuál',\n",
       " 'restaurace',\n",
       " 'dokumentace',\n",
       " 'odsouhlasit',\n",
       " 'kapitálový',\n",
       " 'porušování',\n",
       " 'vydavatelství']"
      ]
     },
     "execution_count": 68,
     "metadata": {},
     "output_type": "execute_result"
    }
   ],
   "source": [
    "delka(5)"
   ]
  },
  {
   "cell_type": "code",
   "execution_count": 69,
   "id": "7f65e216",
   "metadata": {},
   "outputs": [
    {
     "data": {
      "text/plain": [
       "['sudetoněmecký',\n",
       " 'nedorozumění',\n",
       " 'východoevropský',\n",
       " 'videokazeta',\n",
       " 'architektonický',\n",
       " 'východoněmecký',\n",
       " 'neuvěřitelný',\n",
       " 'identifikace',\n",
       " 'administrativní',\n",
       " 'charakteristika',\n",
       " 'experimentální',\n",
       " 'místopředsedkyně',\n",
       " 'západoevropský',\n",
       " 'nacionalista',\n",
       " 'související',\n",
       " 'emocionální',\n",
       " 'realizovaný',\n",
       " 'civilizovaný',\n",
       " 'iniciativa',\n",
       " 'diferenciace',\n",
       " 'kvalifikovaný',\n",
       " 'encyklopedie',\n",
       " 'farmaceutický',\n",
       " 'profesionálně',\n",
       " 'polistopadový',\n",
       " 'organizovaný',\n",
       " 'multimediální',\n",
       " 'vnitropolitický',\n",
       " 'identifikovat',\n",
       " 'specializace']"
      ]
     },
     "execution_count": 69,
     "metadata": {},
     "output_type": "execute_result"
    }
   ],
   "source": [
    "delka(6)"
   ]
  },
  {
   "cell_type": "code",
   "execution_count": 70,
   "id": "7bd95285",
   "metadata": {},
   "outputs": [
    {
     "data": {
      "text/plain": [
       "['telekomunikační',\n",
       " 'telekomunikace',\n",
       " 'restrukturalizace',\n",
       " 'specializovaný',\n",
       " 'severoatlantický',\n",
       " 'zainteresovaný',\n",
       " 'českobudějovický',\n",
       " 'kinematografie',\n",
       " 'institucionální',\n",
       " 'automobilový',\n",
       " 'makroekonomický',\n",
       " 'devatenáctiletý',\n",
       " 'nacionalistický']"
      ]
     },
     "execution_count": 70,
     "metadata": {},
     "output_type": "execute_result"
    }
   ],
   "source": [
    "delka(7)"
   ]
  },
  {
   "cell_type": "code",
   "execution_count": 71,
   "id": "c4925133",
   "metadata": {},
   "outputs": [
    {
     "data": {
      "text/plain": [
       "['uměleckoprůmyslový']"
      ]
     },
     "execution_count": 71,
     "metadata": {},
     "output_type": "execute_result"
    }
   ],
   "source": [
    "delka(8)"
   ]
  },
  {
   "cell_type": "code",
   "execution_count": 72,
   "id": "54c9645e",
   "metadata": {},
   "outputs": [
    {
     "data": {
      "text/plain": [
       "['sociálnědemokratický']"
      ]
     },
     "execution_count": 72,
     "metadata": {},
     "output_type": "execute_result"
    }
   ],
   "source": [
    "delka(9)"
   ]
  },
  {
   "cell_type": "code",
   "execution_count": 73,
   "id": "f0532c72",
   "metadata": {},
   "outputs": [
    {
     "data": {
      "text/plain": [
       "[]"
      ]
     },
     "execution_count": 73,
     "metadata": {},
     "output_type": "execute_result"
    }
   ],
   "source": [
    "delka(10)"
   ]
  },
  {
   "cell_type": "code",
   "execution_count": 74,
   "id": "b3e25a83",
   "metadata": {},
   "outputs": [
    {
     "data": {
      "text/plain": [
       "[]"
      ]
     },
     "execution_count": 74,
     "metadata": {},
     "output_type": "execute_result"
    }
   ],
   "source": [
    "delka(11)"
   ]
  },
  {
   "cell_type": "code",
   "execution_count": 58,
   "id": "7eb72d1b",
   "metadata": {},
   "outputs": [
    {
     "data": {
      "text/plain": [
       "[]"
      ]
     },
     "execution_count": 58,
     "metadata": {},
     "output_type": "execute_result"
    }
   ],
   "source": [
    "delka(12)"
   ]
  }
 ],
 "metadata": {
  "kernelspec": {
   "display_name": "Python 3 (ipykernel)",
   "language": "python",
   "name": "python3"
  },
  "language_info": {
   "codemirror_mode": {
    "name": "ipython",
    "version": 3
   },
   "file_extension": ".py",
   "mimetype": "text/x-python",
   "name": "python",
   "nbconvert_exporter": "python",
   "pygments_lexer": "ipython3",
   "version": "3.11.5"
  }
 },
 "nbformat": 4,
 "nbformat_minor": 5
}
