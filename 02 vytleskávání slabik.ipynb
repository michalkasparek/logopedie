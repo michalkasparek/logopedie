{
 "cells": [
  {
   "cell_type": "code",
   "execution_count": 1,
   "id": "cea900c7",
   "metadata": {},
   "outputs": [],
   "source": [
    "import os"
   ]
  },
  {
   "cell_type": "code",
   "execution_count": 2,
   "id": "00ea2619",
   "metadata": {},
   "outputs": [],
   "source": [
    "with open(\"slova_z_korpusu_10k.txt\", \"r\", encoding=\"utf-8\") as slova:\n",
    "    words = slova.read().splitlines()"
   ]
  },
  {
   "cell_type": "code",
   "execution_count": 3,
   "id": "0626ed7b",
   "metadata": {},
   "outputs": [
    {
     "data": {
      "text/plain": [
       "9832"
      ]
     },
     "execution_count": 3,
     "metadata": {},
     "output_type": "execute_result"
    }
   ],
   "source": [
    "len(words)"
   ]
  },
  {
   "cell_type": "code",
   "execution_count": 4,
   "id": "7e5102ca",
   "metadata": {},
   "outputs": [],
   "source": [
    "samohlasky = [\"a\",\"e\",\"i\",\"o\",\"u\",\"á\",\"é\",\"ě\",\"í\",\"ó\",\"ú\",\"ů\",\"y\",\"ý\"]"
   ]
  },
  {
   "cell_type": "code",
   "execution_count": 5,
   "id": "f66f56f9",
   "metadata": {},
   "outputs": [],
   "source": [
    "def pocet_samohlasek(slovo):\n",
    "    global samohlasky\n",
    "    samohlasek = 0\n",
    "    for s in samohlasky:\n",
    "        samohlasek = samohlasek + slovo.count(s)\n",
    "    return samohlasek"
   ]
  },
  {
   "cell_type": "code",
   "execution_count": 6,
   "id": "53ddff50",
   "metadata": {},
   "outputs": [],
   "source": [
    "import random"
   ]
  },
  {
   "cell_type": "code",
   "execution_count": 7,
   "id": "fb3f0bfc",
   "metadata": {},
   "outputs": [],
   "source": [
    "def delka(pocetsamohlasek):\n",
    "    pocet = 30\n",
    "    seznam = [x for x in words if (pocet_samohlasek(x) == pocetsamohlasek) and ('-' not in x)]\n",
    "    if len(seznam) <= pocet:\n",
    "        return(seznam)\n",
    "    else:\n",
    "        return random.sample(seznam, pocet)"
   ]
  },
  {
   "cell_type": "code",
   "execution_count": 8,
   "id": "d1d147b9",
   "metadata": {},
   "outputs": [
    {
     "data": {
      "text/plain": [
       "['království',\n",
       " 'předvádět',\n",
       " 'násilný',\n",
       " 'finále',\n",
       " 'výstavní',\n",
       " 'úterní',\n",
       " 'osvědčit',\n",
       " 'výchova',\n",
       " 'Kalvoda',\n",
       " 'utíkat',\n",
       " 'zámoří',\n",
       " 'otevřít',\n",
       " 'přibližně',\n",
       " 'dotýkat',\n",
       " 'překonat',\n",
       " 'potrestat',\n",
       " 'odejít',\n",
       " 'osoba',\n",
       " 'ekonom',\n",
       " 'zkušený',\n",
       " 'uprostřed',\n",
       " 'upřímný',\n",
       " 'kompromis',\n",
       " 'obsluha',\n",
       " 'nepříliš',\n",
       " 'nadšenec',\n",
       " 'infekční',\n",
       " 'sdělení',\n",
       " 'hotový',\n",
       " 'radostný']"
      ]
     },
     "execution_count": 8,
     "metadata": {},
     "output_type": "execute_result"
    }
   ],
   "source": [
    "delka(3)"
   ]
  },
  {
   "cell_type": "code",
   "execution_count": 9,
   "id": "0dcd4e15",
   "metadata": {},
   "outputs": [
    {
     "data": {
      "text/plain": [
       "['zákonitost',\n",
       " 'podceňovat',\n",
       " 'nepřátelský',\n",
       " 'raketový',\n",
       " 'navazovat',\n",
       " 'akvárium',\n",
       " 'odvolání',\n",
       " 'překonávat',\n",
       " 'legitimní',\n",
       " 'podnikání',\n",
       " 'dynamický',\n",
       " 'anonymní',\n",
       " 'ustoupit',\n",
       " 'sdělovací',\n",
       " 'seskupení',\n",
       " 'kalifornský',\n",
       " 'přesvědčivý',\n",
       " 'unavený',\n",
       " 'rozčilovat',\n",
       " 'vyhlašovat',\n",
       " 'doporučit',\n",
       " 'plynárenský',\n",
       " 'impérium',\n",
       " 'pětadvacet',\n",
       " 'variace',\n",
       " 'přirozený',\n",
       " 'samostatný',\n",
       " 'zavedený',\n",
       " 'policista',\n",
       " 'zaměřený']"
      ]
     },
     "execution_count": 9,
     "metadata": {},
     "output_type": "execute_result"
    }
   ],
   "source": [
    "delka(4)"
   ]
  },
  {
   "cell_type": "code",
   "execution_count": 10,
   "id": "481f6a98",
   "metadata": {},
   "outputs": [
    {
     "data": {
      "text/plain": [
       "['začínající',\n",
       " 'aktualita',\n",
       " 'uskutečnění',\n",
       " 'frekventovaný',\n",
       " 'evangelický',\n",
       " 'vystupování',\n",
       " 'geologický',\n",
       " 'reprezentantka',\n",
       " 'pokračující',\n",
       " 'hospodaření',\n",
       " 'animovaný',\n",
       " 'republikový',\n",
       " 'komunikace',\n",
       " 'komunistický',\n",
       " 'hollywoodský',\n",
       " 'realizace',\n",
       " 'úřadující',\n",
       " 'konstatování',\n",
       " 'připomenout',\n",
       " 'ekonomicky',\n",
       " 'narozeniny',\n",
       " 'asociace',\n",
       " 'porozumění',\n",
       " 'celosvětový',\n",
       " 'alternativní',\n",
       " 'nadcházející',\n",
       " 'dlouhodobě',\n",
       " 'oficiální',\n",
       " 'iniciátor',\n",
       " 'odsouzený']"
      ]
     },
     "execution_count": 10,
     "metadata": {},
     "output_type": "execute_result"
    }
   ],
   "source": [
    "delka(5)"
   ]
  },
  {
   "cell_type": "code",
   "execution_count": 11,
   "id": "7f65e216",
   "metadata": {},
   "outputs": [
    {
     "data": {
      "text/plain": [
       "['sudetoněmecký',\n",
       " 'královéhradecký',\n",
       " 'socialistický',\n",
       " 'intelektuální',\n",
       " 'profesionální',\n",
       " 'neuvěřitelný',\n",
       " 'specializace',\n",
       " 'charakteristický',\n",
       " 'identifikace',\n",
       " 'liberalizace',\n",
       " 'videokazeta',\n",
       " 'antibiotikum',\n",
       " 'administrativní',\n",
       " 'multimediální',\n",
       " 'charakterizovat',\n",
       " 'východoněmecký',\n",
       " 'architektonický',\n",
       " 'východoevropský',\n",
       " 'odpovídající',\n",
       " 'ideologický',\n",
       " 'nedorozumění',\n",
       " 'nacionalismus',\n",
       " 'individuálně',\n",
       " 'autobusový',\n",
       " 'automaticky',\n",
       " 'připomínající',\n",
       " 'vnitropolitický',\n",
       " 'realizovaný',\n",
       " 'desetitisíce',\n",
       " 'experimentální']"
      ]
     },
     "execution_count": 11,
     "metadata": {},
     "output_type": "execute_result"
    }
   ],
   "source": [
    "delka(6)"
   ]
  },
  {
   "cell_type": "code",
   "execution_count": 12,
   "id": "7bd95285",
   "metadata": {},
   "outputs": [
    {
     "data": {
      "text/plain": [
       "['telekomunikační',\n",
       " 'telekomunikace',\n",
       " 'restrukturalizace',\n",
       " 'specializovaný',\n",
       " 'severoatlantický',\n",
       " 'zainteresovaný',\n",
       " 'českobudějovický',\n",
       " 'kinematografie',\n",
       " 'institucionální',\n",
       " 'automobilový',\n",
       " 'makroekonomický',\n",
       " 'devatenáctiletý',\n",
       " 'nacionalistický']"
      ]
     },
     "execution_count": 12,
     "metadata": {},
     "output_type": "execute_result"
    }
   ],
   "source": [
    "delka(7)"
   ]
  },
  {
   "cell_type": "code",
   "execution_count": 13,
   "id": "c4925133",
   "metadata": {},
   "outputs": [
    {
     "data": {
      "text/plain": [
       "['uměleckoprůmyslový']"
      ]
     },
     "execution_count": 13,
     "metadata": {},
     "output_type": "execute_result"
    }
   ],
   "source": [
    "delka(8)"
   ]
  },
  {
   "cell_type": "code",
   "execution_count": 14,
   "id": "54c9645e",
   "metadata": {},
   "outputs": [
    {
     "data": {
      "text/plain": [
       "['sociálnědemokratický']"
      ]
     },
     "execution_count": 14,
     "metadata": {},
     "output_type": "execute_result"
    }
   ],
   "source": [
    "delka(9)"
   ]
  },
  {
   "cell_type": "code",
   "execution_count": 15,
   "id": "f0532c72",
   "metadata": {},
   "outputs": [
    {
     "data": {
      "text/plain": [
       "[]"
      ]
     },
     "execution_count": 15,
     "metadata": {},
     "output_type": "execute_result"
    }
   ],
   "source": [
    "delka(10)"
   ]
  },
  {
   "cell_type": "code",
   "execution_count": 16,
   "id": "b3e25a83",
   "metadata": {},
   "outputs": [
    {
     "data": {
      "text/plain": [
       "[]"
      ]
     },
     "execution_count": 16,
     "metadata": {},
     "output_type": "execute_result"
    }
   ],
   "source": [
    "delka(11)"
   ]
  },
  {
   "cell_type": "code",
   "execution_count": 17,
   "id": "7eb72d1b",
   "metadata": {},
   "outputs": [
    {
     "data": {
      "text/plain": [
       "[]"
      ]
     },
     "execution_count": 17,
     "metadata": {},
     "output_type": "execute_result"
    }
   ],
   "source": [
    "delka(12)"
   ]
  }
 ],
 "metadata": {
  "kernelspec": {
   "display_name": "Python 3 (ipykernel)",
   "language": "python",
   "name": "python3"
  },
  "language_info": {
   "codemirror_mode": {
    "name": "ipython",
    "version": 3
   },
   "file_extension": ".py",
   "mimetype": "text/x-python",
   "name": "python",
   "nbconvert_exporter": "python",
   "pygments_lexer": "ipython3",
   "version": "3.12.4"
  }
 },
 "nbformat": 4,
 "nbformat_minor": 5
}
