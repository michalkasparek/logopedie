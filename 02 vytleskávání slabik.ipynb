{
 "cells": [
  {
   "cell_type": "code",
   "execution_count": 2,
   "id": "cea900c7",
   "metadata": {},
   "outputs": [],
   "source": [
    "import os"
   ]
  },
  {
   "cell_type": "code",
   "execution_count": 3,
   "id": "00ea2619",
   "metadata": {},
   "outputs": [],
   "source": [
    "with open(\"slova_z_korpusu.txt\", \"r\", encoding=\"utf-8\") as slova:\n",
    "    words = slova.read().splitlines()"
   ]
  },
  {
   "cell_type": "code",
   "execution_count": 4,
   "id": "0626ed7b",
   "metadata": {},
   "outputs": [
    {
     "data": {
      "text/plain": [
       "119442"
      ]
     },
     "execution_count": 4,
     "metadata": {},
     "output_type": "execute_result"
    }
   ],
   "source": [
    "len(words)"
   ]
  },
  {
   "cell_type": "code",
   "execution_count": 5,
   "id": "7e5102ca",
   "metadata": {},
   "outputs": [],
   "source": [
    "samohlasky = [\"a\",\"e\",\"i\",\"o\",\"u\",\"á\",\"é\",\"ě\",\"í\",\"ó\",\"ú\",\"ů\",\"y\",\"ý\"]"
   ]
  },
  {
   "cell_type": "code",
   "execution_count": 6,
   "id": "f66f56f9",
   "metadata": {},
   "outputs": [],
   "source": [
    "def pocet_samohlasek(slovo):\n",
    "    global samohlasky\n",
    "    samohlasek = 0\n",
    "    for s in samohlasky:\n",
    "        samohlasek = samohlasek + slovo.count(s)\n",
    "    return samohlasek"
   ]
  },
  {
   "cell_type": "code",
   "execution_count": 7,
   "id": "53ddff50",
   "metadata": {},
   "outputs": [],
   "source": [
    "import random"
   ]
  },
  {
   "cell_type": "code",
   "execution_count": 8,
   "id": "fb3f0bfc",
   "metadata": {},
   "outputs": [],
   "source": [
    "def delka(pocetsamohlasek):\n",
    "    pocet = 30\n",
    "    seznam = [x for x in words if pocet_samohlasek(x) == pocetsamohlasek]\n",
    "    if len(seznam) <= pocet:\n",
    "        return(seznam)\n",
    "    else:\n",
    "        return random.sample(seznam, pocet)"
   ]
  },
  {
   "cell_type": "code",
   "execution_count": 9,
   "id": "d1d147b9",
   "metadata": {},
   "outputs": [
    {
     "data": {
      "text/plain": [
       "['fazole',\n",
       " 'Malichův',\n",
       " 'Hadraba',\n",
       " 'pasiáns',\n",
       " 'gangsterka',\n",
       " 'efedrin',\n",
       " 'zelenáč',\n",
       " 'kontura',\n",
       " 'umínit',\n",
       " 'završovat',\n",
       " 'tětiva',\n",
       " 'přeplnění',\n",
       " 'Dubina',\n",
       " 'Poukar',\n",
       " 'operon',\n",
       " 'knihovník',\n",
       " 'houbař',\n",
       " 'Tibitanzl',\n",
       " 'Wallová',\n",
       " 'Durnová',\n",
       " 'Muglinov',\n",
       " 'kardamom',\n",
       " 'odtékat',\n",
       " 'listinný',\n",
       " 'podnožka',\n",
       " 'řemeslný',\n",
       " 'Navrátil',\n",
       " 'gázový',\n",
       " 'Mojžíšův',\n",
       " 'Brittenův']"
      ]
     },
     "execution_count": 9,
     "metadata": {},
     "output_type": "execute_result"
    }
   ],
   "source": [
    "delka(3)"
   ]
  },
  {
   "cell_type": "code",
   "execution_count": 10,
   "id": "0dcd4e15",
   "metadata": {},
   "outputs": [
    {
     "data": {
      "text/plain": [
       "['Souměřní',\n",
       " 'žonglování',\n",
       " 'přituhnout',\n",
       " 'tiskovina',\n",
       " 'Vancouver',\n",
       " 'dostavovat',\n",
       " 'Tanečnice',\n",
       " 'zahlédnutý',\n",
       " 'ježišmarjá',\n",
       " 'Koloušek',\n",
       " 'vylepšený',\n",
       " 'zoufalost',\n",
       " 'Krejčířová',\n",
       " 'Roosevelt',\n",
       " 'Anakleitův',\n",
       " 'osušovat',\n",
       " 'polohový',\n",
       " 'cyklistický',\n",
       " 'diaboli',\n",
       " 'StrategoInvest',\n",
       " 'falzifikát',\n",
       " 'vyprázdněnost',\n",
       " 'Pomoraví',\n",
       " 'vyšehradský',\n",
       " 'starostlivost',\n",
       " 'cirkulárka',\n",
       " 'Boleslavův',\n",
       " 'uhynutí',\n",
       " 'naočkovat',\n",
       " 'Znouzectnost']"
      ]
     },
     "execution_count": 10,
     "metadata": {},
     "output_type": "execute_result"
    }
   ],
   "source": [
    "delka(4)"
   ]
  },
  {
   "cell_type": "code",
   "execution_count": 11,
   "id": "481f6a98",
   "metadata": {},
   "outputs": [
    {
     "data": {
      "text/plain": [
       "['kondominium',\n",
       " 'demytizace',\n",
       " 'indukující',\n",
       " 'lapidárium',\n",
       " 'pozorovatel',\n",
       " 'Technologies',\n",
       " 'červenožlutý',\n",
       " 'halančíkovec',\n",
       " 'keynesovský',\n",
       " 'egoisticky',\n",
       " 'povolující',\n",
       " 'odplevelovat',\n",
       " 'evangeliář',\n",
       " 'nenáviděný',\n",
       " 'Solženicynův',\n",
       " 'pilotovaný',\n",
       " 'omluvitelný',\n",
       " 'středoasijský',\n",
       " 'zaměstnankyně',\n",
       " 'Kobayashi',\n",
       " 'zpanikařený',\n",
       " 'legitimovat',\n",
       " 'demonstrování',\n",
       " 'předpovězený',\n",
       " 'odpočívání',\n",
       " 'asertivita',\n",
       " 'ctižádostivec',\n",
       " 'chabařovický',\n",
       " 'telegrafický',\n",
       " 'devětadvacet']"
      ]
     },
     "execution_count": 11,
     "metadata": {},
     "output_type": "execute_result"
    }
   ],
   "source": [
    "delka(5)"
   ]
  },
  {
   "cell_type": "code",
   "execution_count": 12,
   "id": "7f65e216",
   "metadata": {},
   "outputs": [
    {
     "data": {
      "text/plain": [
       "['protiraketový',\n",
       " 'vypověditelný',\n",
       " 'behaviorizmus',\n",
       " 'nepopularita',\n",
       " 'osmadevadesát',\n",
       " 'altsaxofonista',\n",
       " 'šroubovicově',\n",
       " 'propan-butanový',\n",
       " 'vyčerpávající',\n",
       " 'medializace',\n",
       " 'poukazování',\n",
       " 'utilitarismus',\n",
       " 'klimatologie',\n",
       " 'psychosomatika',\n",
       " 'severozápadně',\n",
       " 'zhypnotizovaný',\n",
       " 'dvanáctimetrový',\n",
       " 'mateřídouška',\n",
       " 'reprosoustava',\n",
       " 'strukturalizace',\n",
       " 'popularizační',\n",
       " 'diskreditující',\n",
       " 'spiritualizmus',\n",
       " 'dorozumívací',\n",
       " 'všepronikající',\n",
       " 'poukazující',\n",
       " 'kilowatthodina',\n",
       " 'jedenačtyřicet',\n",
       " 'kolonizátorský',\n",
       " 'perfekcionista']"
      ]
     },
     "execution_count": 12,
     "metadata": {},
     "output_type": "execute_result"
    }
   ],
   "source": [
    "delka(6)"
   ]
  },
  {
   "cell_type": "code",
   "execution_count": 13,
   "id": "7bd95285",
   "metadata": {},
   "outputs": [
    {
     "data": {
      "text/plain": [
       "['populárně-vědecký',\n",
       " 'symptomatologie',\n",
       " 'podnikohospodářský',\n",
       " 'pětadvacetiletý',\n",
       " 'jedenáctibodový',\n",
       " 'personifikovaný',\n",
       " 'československo-polský',\n",
       " 'objektivizovaný',\n",
       " 'osmimilimetrový',\n",
       " 'seberealizace',\n",
       " 'poliomyelitis',\n",
       " 'demoralizovaný',\n",
       " 'rakousko-uherský',\n",
       " 'protirakovinový',\n",
       " 'ovariotomie',\n",
       " 'mnohakilometrový',\n",
       " 'šestnáctiventilový',\n",
       " 'maloburžoazie',\n",
       " 'videoinstalace',\n",
       " 'materializovat',\n",
       " 'dvoutisíciletý',\n",
       " 'kryptokomunistický',\n",
       " 'zainteresování',\n",
       " 'zevšeobecňování',\n",
       " 'intencionalita',\n",
       " 'rakousko-italský',\n",
       " 'nadšroubovicový',\n",
       " 'jednadvacetiletý',\n",
       " 'autoritativnost',\n",
       " 'restrukturalizovat']"
      ]
     },
     "execution_count": 13,
     "metadata": {},
     "output_type": "execute_result"
    }
   ],
   "source": [
    "delka(7)"
   ]
  },
  {
   "cell_type": "code",
   "execution_count": 14,
   "id": "c4925133",
   "metadata": {},
   "outputs": [
    {
     "data": {
      "text/plain": [
       "['sociáldemokratismus',\n",
       " 'dvacetimiliardový',\n",
       " 'elektroenergetika',\n",
       " 'patnáctikilometrový',\n",
       " 'osmasedmdesátiletý',\n",
       " 'technicko-ekonomický',\n",
       " 'zautomatizovaný',\n",
       " 'třicetikilometrový',\n",
       " 'individualistický',\n",
       " 'hospodářskopolitický',\n",
       " 'socioekonomický',\n",
       " 'dvaaosmdesátiletý',\n",
       " 'padesátitisícový',\n",
       " 'antiintelektuální',\n",
       " 'autobiografický',\n",
       " 'biomakromolekula',\n",
       " 'exhibicionistický',\n",
       " 'jedenadvacetiletý',\n",
       " 'boogie-woogie',\n",
       " 'šestnáctimiliónový',\n",
       " 'elektroenergetický',\n",
       " 'imunodeficience',\n",
       " 'intervencionistický',\n",
       " 'umělecko-historický',\n",
       " 'osmapadesátiletý',\n",
       " 'patnáctimiliardový',\n",
       " 'polynukleotidový',\n",
       " 'sebezdokonalování',\n",
       " 'internacionalismus',\n",
       " 'sedmdesátitisícový']"
      ]
     },
     "execution_count": 14,
     "metadata": {},
     "output_type": "execute_result"
    }
   ],
   "source": [
    "delka(8)"
   ]
  },
  {
   "cell_type": "code",
   "execution_count": 15,
   "id": "54c9645e",
   "metadata": {},
   "outputs": [
    {
     "data": {
      "text/plain": [
       "['meningoencefalitida',\n",
       " 'čtyřiapadesátiletý',\n",
       " 'pětasedmdesátiprocentní',\n",
       " 'sociálně-ekonomický',\n",
       " 'padesátimiliónový',\n",
       " 'sociálně-demokratický',\n",
       " 'devětačtyřicetiletý',\n",
       " 'národněosvobozenecký',\n",
       " 'šedesátikilometrový',\n",
       " 'dehydroepiandrosteron',\n",
       " 'dezoxyribonukleový',\n",
       " 'Heathcote-Kilkoonová',\n",
       " 'pseudointelektuální',\n",
       " 'historicko-etnografický',\n",
       " 'sociálněekonomický',\n",
       " 'čtyřiasedmdesátiletý',\n",
       " 'radioterapeutický',\n",
       " 'politicko-ekonomický',\n",
       " 'ekonomicko-politický',\n",
       " 'čtyřicetikilometrový',\n",
       " 'sedmdesátikilometrový',\n",
       " 'devětašedesátiletý',\n",
       " 'neurofyziologický',\n",
       " 'sociálnědemokratický',\n",
       " 'liberálně-konzervativní',\n",
       " 'několikamiliónový',\n",
       " 'matematicko-statistický',\n",
       " 'několikasettisícový',\n",
       " 'neuromediátorový',\n",
       " 'třiadevadesátiletý']"
      ]
     },
     "execution_count": 15,
     "metadata": {},
     "output_type": "execute_result"
    }
   ],
   "source": [
    "delka(9)"
   ]
  },
  {
   "cell_type": "code",
   "execution_count": 16,
   "id": "f0532c72",
   "metadata": {},
   "outputs": [
    {
     "data": {
      "text/plain": [
       "['pedagogicko-psychologický',\n",
       " 'institucionalizovaný',\n",
       " 'gynekologicko-porodnický',\n",
       " 'čtyřiadvacetihodinový',\n",
       " 'dodavatelsko-odběratelský',\n",
       " 'devadesátikilometrový',\n",
       " 'porodnicko-gynekologický',\n",
       " 'objektově-orientovaný',\n",
       " 'osmačtyřicetihodinový',\n",
       " 'pětačtyřicetiminutovka',\n",
       " 'sociologicko-historický',\n",
       " 'jedenadevadesátiletý',\n",
       " 'pětačtyřicetiminutový',\n",
       " 'jedenapadesátiprocentní',\n",
       " 'několikasetmilionový',\n",
       " 'socialisticko-liberální',\n",
       " 'politicko-ideologický',\n",
       " 'PricewaterhouseCoopers',\n",
       " 'stošedesátikilometrový']"
      ]
     },
     "execution_count": 16,
     "metadata": {},
     "output_type": "execute_result"
    }
   ],
   "source": [
    "delka(10)"
   ]
  },
  {
   "cell_type": "code",
   "execution_count": 17,
   "id": "2da165d4",
   "metadata": {},
   "outputs": [
    {
     "data": {
      "text/plain": [
       "['nacionálněsocialistický',\n",
       " 'architektonicko-urbanistický',\n",
       " 'socialistickorealistický',\n",
       " 'urbanisticko-architektonický',\n",
       " 'dvaapadesátimilionový',\n",
       " 'teoreticko-metodologický']"
      ]
     },
     "execution_count": 17,
     "metadata": {},
     "output_type": "execute_result"
    }
   ],
   "source": [
    "delka(11)"
   ]
  },
  {
   "cell_type": "code",
   "execution_count": 18,
   "id": "64c79e4e",
   "metadata": {},
   "outputs": [
    {
     "data": {
      "text/plain": [
       "['geologicko-paleontologický']"
      ]
     },
     "execution_count": 18,
     "metadata": {},
     "output_type": "execute_result"
    }
   ],
   "source": [
    "delka(12)"
   ]
  }
 ],
 "metadata": {
  "kernelspec": {
   "display_name": "Python 3 (ipykernel)",
   "language": "python",
   "name": "python3"
  },
  "language_info": {
   "codemirror_mode": {
    "name": "ipython",
    "version": 3
   },
   "file_extension": ".py",
   "mimetype": "text/x-python",
   "name": "python",
   "nbconvert_exporter": "python",
   "pygments_lexer": "ipython3",
   "version": "3.11.5"
  }
 },
 "nbformat": 4,
 "nbformat_minor": 5
}
