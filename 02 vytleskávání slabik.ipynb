{
 "cells": [
  {
   "cell_type": "code",
   "execution_count": 28,
   "id": "cea900c7",
   "metadata": {},
   "outputs": [],
   "source": [
    "import os"
   ]
  },
  {
   "cell_type": "code",
   "execution_count": 29,
   "id": "00ea2619",
   "metadata": {},
   "outputs": [],
   "source": [
    "with open(\"slova.txt\", \"r\", encoding=\"utf-8\") as slova:\n",
    "    words = slova.read().splitlines()"
   ]
  },
  {
   "cell_type": "code",
   "execution_count": 30,
   "id": "0626ed7b",
   "metadata": {},
   "outputs": [
    {
     "data": {
      "text/plain": [
       "138024"
      ]
     },
     "execution_count": 30,
     "metadata": {},
     "output_type": "execute_result"
    }
   ],
   "source": [
    "len(words)"
   ]
  },
  {
   "cell_type": "code",
   "execution_count": 31,
   "id": "7e5102ca",
   "metadata": {},
   "outputs": [],
   "source": [
    "samohlasky = [\"a\",\"e\",\"i\",\"o\",\"u\",\"á\",\"é\",\"ě\",\"í\",\"ó\",\"ú\",\"ů\",\"y\",\"ý\"]"
   ]
  },
  {
   "cell_type": "code",
   "execution_count": 32,
   "id": "f66f56f9",
   "metadata": {},
   "outputs": [],
   "source": [
    "def pocet_samohlasek(slovo):\n",
    "    global samohlasky\n",
    "    samohlasek = 0\n",
    "    for s in samohlasky:\n",
    "        samohlasek = samohlasek + slovo.count(s)\n",
    "    return samohlasek"
   ]
  },
  {
   "cell_type": "code",
   "execution_count": 33,
   "id": "53ddff50",
   "metadata": {},
   "outputs": [],
   "source": [
    "import random"
   ]
  },
  {
   "cell_type": "code",
   "execution_count": 34,
   "id": "fb3f0bfc",
   "metadata": {},
   "outputs": [],
   "source": [
    "def delka(pocetsamohlasek):\n",
    "    pocet = 30\n",
    "    seznam = [x for x in words if pocet_samohlasek(x) == pocetsamohlasek]\n",
    "    if len(seznam) <= pocet:\n",
    "        return(seznam)\n",
    "    else:\n",
    "        return random.sample(seznam, pocet)"
   ]
  },
  {
   "cell_type": "code",
   "execution_count": 35,
   "id": "d1d147b9",
   "metadata": {},
   "outputs": [
    {
     "data": {
      "text/plain": [
       "['skaliskách',\n",
       " 'památnej',\n",
       " 'šestýho',\n",
       " 'krásnými',\n",
       " 'neříkáš',\n",
       " 'jezdectva',\n",
       " 'kordisko',\n",
       " 'nejstarším',\n",
       " 'dupalo',\n",
       " 'uslyšev',\n",
       " 'huňáče',\n",
       " 'neprotáhl',\n",
       " 'zlotřilci',\n",
       " 'dýchaly',\n",
       " 'zacpala',\n",
       " 'pořádek',\n",
       " 'seslábneš',\n",
       " 'dunivá',\n",
       " 'vyskytli',\n",
       " 'vyhýbáš',\n",
       " 'bystrosti',\n",
       " 'nesnáším',\n",
       " 'sehnalo',\n",
       " 'pojily',\n",
       " 'sekyrka',\n",
       " 'nechutná',\n",
       " 'diktando',\n",
       " 'sychrovem',\n",
       " 'ledakde',\n",
       " 'drkotaly']"
      ]
     },
     "execution_count": 35,
     "metadata": {},
     "output_type": "execute_result"
    }
   ],
   "source": [
    "delka(3)"
   ]
  },
  {
   "cell_type": "code",
   "execution_count": 36,
   "id": "0dcd4e15",
   "metadata": {},
   "outputs": [
    {
     "data": {
      "text/plain": [
       "['nížinou',\n",
       " 'vystřídaly',\n",
       " 'zvýšenému',\n",
       " 'vyzvěděla',\n",
       " 'zpytavýma',\n",
       " 'sazeničkám',\n",
       " 'hekající',\n",
       " 'nevystačil',\n",
       " 'vyčouhla',\n",
       " 'salamandry',\n",
       " 'nezkoušel',\n",
       " 'soutěžit',\n",
       " 'odcizila',\n",
       " 'potěšíte',\n",
       " 'zrýhované',\n",
       " 'oblétají',\n",
       " 'rozdvojily',\n",
       " 'odrostlejší',\n",
       " 'cizokrajných',\n",
       " 'dobrovolným',\n",
       " 'ledvinama',\n",
       " 'nadiktuje',\n",
       " 'závěrečný',\n",
       " 'pohodlného',\n",
       " 'nejoplzlejší',\n",
       " 'prostrkovaly',\n",
       " 'meducina',\n",
       " 'koupené',\n",
       " 'stloukali',\n",
       " 'poražena']"
      ]
     },
     "execution_count": 36,
     "metadata": {},
     "output_type": "execute_result"
    }
   ],
   "source": [
    "delka(4)"
   ]
  },
  {
   "cell_type": "code",
   "execution_count": 37,
   "id": "481f6a98",
   "metadata": {},
   "outputs": [
    {
     "data": {
      "text/plain": [
       "['obdělávali',\n",
       " 'chirurgickejma',\n",
       " 'mimořádného',\n",
       " 'karabinami',\n",
       " 'oživující',\n",
       " 'obnovenou',\n",
       " 'neuronila',\n",
       " 'rozestavené',\n",
       " 'nedomnívají',\n",
       " 'zbývajícímu',\n",
       " 'neomenia',\n",
       " 'obouvaly',\n",
       " 'batistovou',\n",
       " 'považujete',\n",
       " 'kolíbavou',\n",
       " 'důvěřivého',\n",
       " 'oblíbenému',\n",
       " 'nemurciánská',\n",
       " 'rozehrávané',\n",
       " 'vytištěnou',\n",
       " 'dokumentárních',\n",
       " 'okouzlení',\n",
       " 'elektrikou',\n",
       " 'responsoria',\n",
       " 'fantaziemi',\n",
       " 'dokonalými',\n",
       " 'hynoucího',\n",
       " 'přimlouváním',\n",
       " 'soustředění',\n",
       " 'devaterými']"
      ]
     },
     "execution_count": 37,
     "metadata": {},
     "output_type": "execute_result"
    }
   ],
   "source": [
    "delka(5)"
   ]
  },
  {
   "cell_type": "code",
   "execution_count": 38,
   "id": "7f65e216",
   "metadata": {},
   "outputs": [
    {
     "data": {
      "text/plain": [
       "['neochabující',\n",
       " 'cineráriemi',\n",
       " 'světlokadeřavý',\n",
       " 'jednorozeného',\n",
       " 'opovážlivého',\n",
       " 'kohoutovou',\n",
       " 'neodpovídala',\n",
       " 'odpočítávají',\n",
       " 'nepřipomínalo',\n",
       " 'vypelichaného',\n",
       " 'civilizovaný',\n",
       " 'indeterminismus',\n",
       " 'dvaapadesáti',\n",
       " 'rozezvučívají',\n",
       " 'dlouhohlavou',\n",
       " 'předepisovala',\n",
       " 'pozorovateli',\n",
       " 'nepochybovala',\n",
       " 'opotřebovaný',\n",
       " 'neukazovalo',\n",
       " 'nezbastarděnou',\n",
       " 'připovězenou',\n",
       " 'staroboleslavské',\n",
       " 'publikovaného',\n",
       " 'bibliotékářem',\n",
       " 'usedavějšího',\n",
       " 'šalamounova',\n",
       " 'pozorovatelů',\n",
       " 'staromládeneckým',\n",
       " 'večeraztratila']"
      ]
     },
     "execution_count": 38,
     "metadata": {},
     "output_type": "execute_result"
    }
   ],
   "source": [
    "delka(6)"
   ]
  },
  {
   "cell_type": "code",
   "execution_count": 39,
   "id": "7bd95285",
   "metadata": {},
   "outputs": [
    {
     "data": {
      "text/plain": [
       "['patnácteronásobný',\n",
       " 'nepochopitelného',\n",
       " 'civilizovanou',\n",
       " 'diskvalifikovali',\n",
       " 'poloztrouchnivělém',\n",
       " 'lehkoatletického',\n",
       " 'mateřídouškou',\n",
       " 'ideologickou',\n",
       " 'alumíniovou',\n",
       " 'dekolorovanou',\n",
       " 'nenapravitelnou',\n",
       " 'napomádovanou',\n",
       " 'autobusovému',\n",
       " 'lichoběžníkovými',\n",
       " 'nedocenitelnou',\n",
       " 'stroupežnickýnaši',\n",
       " 'pronásledovatelích',\n",
       " 'novorozeneckého',\n",
       " 'nejdokonalejšího',\n",
       " 'tisíceronásobným',\n",
       " 'radioaparátech',\n",
       " 'stavbyvedoucího',\n",
       " 'odpolitizování',\n",
       " 'nedocenitelnými',\n",
       " 'čtyřicetiletou',\n",
       " 'radioamatéři',\n",
       " 'phanerobranchiata',\n",
       " 'individualismu',\n",
       " 'zadostiučiněním',\n",
       " 'charakterizovali']"
      ]
     },
     "execution_count": 39,
     "metadata": {},
     "output_type": "execute_result"
    }
   ],
   "source": [
    "delka(7)"
   ]
  },
  {
   "cell_type": "code",
   "execution_count": 40,
   "id": "c4925133",
   "metadata": {},
   "outputs": [
    {
     "data": {
      "text/plain": [
       "['úctěvěnujebožena',\n",
       " 'spolurozhodovatele',\n",
       " 'osumačtyřicátníci',\n",
       " 'uměleckoprůmyslové',\n",
       " 'blahodárnouskončila',\n",
       " 'vysoustruhovanou',\n",
       " 'železobetonovými',\n",
       " 'nedegenerovanou',\n",
       " 'materialistického',\n",
       " 'automobilistickém',\n",
       " 'šeříkovááááá',\n",
       " 'pětašedesátiletý',\n",
       " 'dvoucentimetrovou',\n",
       " 'čelakovsképřipisuje',\n",
       " 'šestiúhelníkovými',\n",
       " 'specializovaného',\n",
       " 'vosumačtyrycátýho',\n",
       " 'žesinavásmámdátpozor',\n",
       " 'antisalamandriánů',\n",
       " 'čtyryavosumdesátý',\n",
       " 'východojihovýchodu',\n",
       " 'nenapodobitelnou',\n",
       " 'nejpodezřívavějšího',\n",
       " 'desetiminutovou',\n",
       " 'dvaceticentimetrový',\n",
       " 'západojihozápadu',\n",
       " 'šestadvacetiletému',\n",
       " 'methylaminopropanol',\n",
       " 'čtyřiavosumdesátý',\n",
       " 'čtyřiadvacetiletý']"
      ]
     },
     "execution_count": 40,
     "metadata": {},
     "output_type": "execute_result"
    }
   ],
   "source": [
    "delka(8)"
   ]
  },
  {
   "cell_type": "code",
   "execution_count": 41,
   "id": "54c9645e",
   "metadata": {},
   "outputs": [
    {
     "data": {
      "text/plain": [
       "['ratatatetatotammete',\n",
       " 'východoseverovýchodním',\n",
       " 'východoseverovýchodu',\n",
       " 'severoseverovýchodním',\n",
       " 'čtyřiadvacetiletou',\n",
       " 'soukromopodnikatelské',\n",
       " 'amerikánizřízenou']"
      ]
     },
     "execution_count": 41,
     "metadata": {},
     "output_type": "execute_result"
    }
   ],
   "source": [
    "delka(9)"
   ]
  },
  {
   "cell_type": "code",
   "execution_count": 42,
   "id": "f0532c72",
   "metadata": {},
   "outputs": [
    {
     "data": {
      "text/plain": [
       "['internacionalizováni', 'dvěstěsedmdesátikorunové', 'pětasedumdesátiletého']"
      ]
     },
     "execution_count": 42,
     "metadata": {},
     "output_type": "execute_result"
    }
   ],
   "source": [
    "delka(10)"
   ]
  }
 ],
 "metadata": {
  "kernelspec": {
   "display_name": "Python 3 (ipykernel)",
   "language": "python",
   "name": "python3"
  },
  "language_info": {
   "codemirror_mode": {
    "name": "ipython",
    "version": 3
   },
   "file_extension": ".py",
   "mimetype": "text/x-python",
   "name": "python",
   "nbconvert_exporter": "python",
   "pygments_lexer": "ipython3",
   "version": "3.11.5"
  }
 },
 "nbformat": 4,
 "nbformat_minor": 5
}
