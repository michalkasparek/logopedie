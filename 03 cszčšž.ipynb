{
 "cells": [
  {
   "cell_type": "code",
   "execution_count": 3,
   "id": "0d53c26e",
   "metadata": {},
   "outputs": [],
   "source": [
    "import os\n",
    "import random"
   ]
  },
  {
   "cell_type": "code",
   "execution_count": 9,
   "id": "0da82758",
   "metadata": {},
   "outputs": [],
   "source": [
    "with open(\"slova_z_korpusu_10k.txt\", \"r\", encoding=\"utf-8\") as slova:\n",
    "    words = slova.read().splitlines()"
   ]
  },
  {
   "cell_type": "code",
   "execution_count": 5,
   "id": "9f0910b7",
   "metadata": {},
   "outputs": [],
   "source": [
    "hlasky = ['c','s','z','č','š','ž']"
   ]
  },
  {
   "cell_type": "code",
   "execution_count": 6,
   "id": "f8bdcaa4",
   "metadata": {},
   "outputs": [],
   "source": [
    "def hledame(zacatek=True, pred_samohlaskou=False):\n",
    "    nalezeno = []\n",
    "    if zacatek == True:\n",
    "        for w in words:\n",
    "            if w[0].lower() in hlasky:\n",
    "                if \"ch\" not in w.lower():\n",
    "                    pocet = 0\n",
    "                    for h in hlasky:\n",
    "                        if h in w.lower():\n",
    "                            pocet += 1\n",
    "                    if pocet == 1:\n",
    "                        nalezeno.append(w)\n",
    "        if pred_samohlaskou == True:\n",
    "            nalezeno = [n for n in nalezeno if n[1] in ['a','á','e','é','i','í','o','ó','u','ů']]\n",
    "    if zacatek == False:\n",
    "        for w in words:\n",
    "            pocet = 0\n",
    "            for h in hledame:\n",
    "                if h in w[1:-1].lower():\n",
    "                    if 'ch' not in w.lower():\n",
    "                        pocet = 0\n",
    "                        for h in hledame:\n",
    "                            if h in w.lower():\n",
    "                                pocet += 1\n",
    "                        if pocet == 1:\n",
    "                            nalezeno.append(w)\n",
    "    return nalezeno"
   ]
  },
  {
   "cell_type": "code",
   "execution_count": 12,
   "id": "f679dcb2",
   "metadata": {},
   "outputs": [
    {
     "data": {
      "text/plain": [
       "'Černomyrdin, Sova, čerpání, závazný, Zéland, zakladatel, šeptat, centrála, sedmdesátý, šampionát, set, žalovat, celkový, šedivý, soud, sanitka, široký, zemřít, černý, zadání, zajímat, zámek, certifikát, zapadat, Carlo, sílit, záhada, zadarmo, záznam, souprava, cukr, zaměřovat, silně, závazek, cela, cílový, zaznamenávat, soupeř, zaváhat, cibule, samostatně, celkově, zaznít, země, zanedlouho, žert, sedmý, soukromník, soubor, církev, semifinále, černobílý, zaplnit, segment, souhrn, cíl, citlivý, sem, cenný, sídlo, zobrazení, super, seminář, zánět, Záhřeb, zářit, zazvonit, zahrnovat, činit, žít, Sabina, satelit, summit, zadní, činný, červen, zakrývat, zakoupit, ženatý, zimní, zaplatit, četný, zárodek, živina, Singapur, zábradlí, červnový, souvrství, zapomenout, zemina, country, zamilovat, zařazení, Santa, soustava, sex, čin, Žižka, sepsat, sólo, suma, šokovat, zajímavý, sovětský, závodník, zájem, soustředěný, sakra, souvislý, sehrát, zeleň, souhlas, sundat, zavítat, citovat, záruka, čočka, živý, softwarový, záhy, zamítnout, sousedství, Čapek, Šárka, zahájení, cítit, čirý, zavazadlo, zelený, sever, židle, sukně, soustřeďovat, síň, sedadlo, žíla, sáhnout, selhat, soustavně, zatknout, sudetský, záhadný, sestavovat, šampion, záměr, zírat, sektor, čelní, zahlédnout, zopakovat, zábava, zahájit, samota, signál, sejít, sebrat, zazpívat, sad, zajít, zapotřebí, citát, zamilovaný, Carl, sonda, zatáhnout, zahnat, čelo, sevřít, samotný, čekat, zařazovat, šilink, soumrak, suverenita, zakázka, žaludek, sednout, Sofie, četba, zařízení, zabrat, zájezd, zapomenutý, celní, šít, činohra, zobrazovat, sokol, Čermák, základna, zareagovat, zevnitř, selhání, zájmový, soudní, centr, zejména, zahrádka, sokolský, Šedivý, sada, Šumperk, zavřít, Šimon, zakázat, Žižkov, zapojit, zaměřený, severský, zábavný, čokoláda, zóna, žádaný, šok, šílený, zároveň, zařvat, zeptat, Sam, cítění, záminka, šíře, žebřík, soustředit, živě, Simon, senát, celek, zákoník, sedět, žádný, živit, zobrazit, silvestrovský, zákonodárný, zadat, sestavit, sekretariát, céva, záběr, seriál, citový, zařadit, zaměření, základní, čeleď, setkání, šíření, sako, zázrak, Sergej, zoufalý, subjekt, záření, samostatný, zapomínat, zajetí, západ, celý, zaznamenat, soudobý, San, salón, sestup, server, šikovný, sekunda, Sampras, salát, sídlit, sortiment, Saddám, sou, závodit, cit, sedlák, samosprávný, soused, čert, šéfredaktor, souhlasit, zahledět, širý, žebro, soukromý, zemní, sám, surový, sestra, cokoli, Čína, centimetr, Conn, síť, šedý, zezadu, zoufale, zázemí, Zelený, žaloba, žánr, zakazovat, car, Černá, čára, závod, sekta, zahynout, zato, Centro, závidět, zavedený, zavádět, zatím, zadek, soustředění, cenový, Sarajevo, cikán, Zeman, salám, sestava, cenit, zamířit, život, šelma, žárovka, City, souviset, žid, zalít, sestavený, zakázaný, zeměkoule, copak, sériový, samostatnost, šaty, čip, šířka, sen, záře, zavazovat, šek, záměrně, cigareta, Siemens, setkat, šéf, souboj, signatář, zavřený, zařídit, žák, sekretář, zapálit, závodní, servisní, coby, zítřek, sudí, zanedbatelný, sedlo, zadívat, sólista, sousední, Ženeva, zakotvit, záloha, zabalit, severomoravský, záliba, zahrnout, sebevědomí, šetřit, čína, zajet, sehnat, siréna, celník, zábrana, sobotní, celkem, soupeřka, Šumava, cement, senátor, soudit, seskupení, zablokovat, sůl, sádlo, čelit, Sokolov, servis, zavrtět, cena, síťový, čitelný, záliv, záhon, záda, zeman, želva, zářijový, citovaný, živel, Černý, zavádění, sir, zubní, cent, zaplavit, čekání, záplava, severní, citlivě, zabíjet, subjektivní, žena, zánik, zákonný, zarazit, sestoupit, zahrada, suverénní, surovina, souvislost, zapojení, zabírat, sedmdesát, závadný, zahajovat, samopal, zabít, solidarita, Číňan, zákrok, šetření, zakrýt, saudský, civil, cup, žadatel, samospráva, zamezit, zaujmout, silný, šero, sexuální, setkávat, zapnout, zavedení, západní, sebevědomý, soukromí, zub, zapadnout, zavinit, Zuzana, zápal, série, zabavit, zanikat, zahradní, zelí, soulad, šatna, solidní, závada, červený, čaj, zaměřit, zeď, zima, zahrát, setrvat, čerpat, zakládat, sametový, zamknout, semeno, šířit, sotva, sekretářka, Sokol, zemřelý, závěr, Zákon, zámoří, sál, zabránit, září, civilní, žádat, zákon, zaujímat, zabraňovat, zabývat, sestavení, Siegl, seno, Soukup, sólový, síla, církevní, zaniknout, zavírat, základ, sarajevský, zavázat, software, samý, Žid, sekundární, centrum, šálek, činitel, sobota, senátní, čerpadlo, supermarket, centrální, záporný, zákazník, zemanův, soudruh, zavolat, senior, zítra, sedm, sahat, zelenina, životní, čili, činoherní, zorganizovat, zodpovědný, zákaz, šikmý, sud, šátek, cihla'"
      ]
     },
     "execution_count": 12,
     "metadata": {},
     "output_type": "execute_result"
    }
   ],
   "source": [
    "\", \".join(hledame(zacatek=True, pred_samohlaskou=True))"
   ]
  }
 ],
 "metadata": {
  "kernelspec": {
   "display_name": "Python 3 (ipykernel)",
   "language": "python",
   "name": "python3"
  },
  "language_info": {
   "codemirror_mode": {
    "name": "ipython",
    "version": 3
   },
   "file_extension": ".py",
   "mimetype": "text/x-python",
   "name": "python",
   "nbconvert_exporter": "python",
   "pygments_lexer": "ipython3",
   "version": "3.11.5"
  }
 },
 "nbformat": 4,
 "nbformat_minor": 5
}
