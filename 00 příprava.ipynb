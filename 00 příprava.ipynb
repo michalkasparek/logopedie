{
 "cells": [
  {
   "cell_type": "code",
   "execution_count": 40,
   "id": "c71748af",
   "metadata": {},
   "outputs": [],
   "source": [
    "import os\n",
    "import ebooklib\n",
    "from ebooklib import epub\n",
    "from bs4 import BeautifulSoup"
   ]
  },
  {
   "cell_type": "code",
   "execution_count": 41,
   "id": "5549e765",
   "metadata": {},
   "outputs": [],
   "source": [
    "slozka = \"knihy\""
   ]
  },
  {
   "cell_type": "code",
   "execution_count": 42,
   "id": "83d6f381",
   "metadata": {},
   "outputs": [],
   "source": [
    "if not os.path.exists(slozka):\n",
    "    os.makedirs(slozka)"
   ]
  },
  {
   "cell_type": "code",
   "execution_count": 43,
   "id": "77fb7a79",
   "metadata": {},
   "outputs": [],
   "source": [
    "def epub_txt(directory):\n",
    "    \n",
    "    uspesne = []\n",
    "    \n",
    "    for filename in os.listdir(directory):\n",
    "        if filename.endswith('.epub'):\n",
    "            \n",
    "            try:\n",
    "            \n",
    "                book = epub.read_epub(os.path.join(directory, filename))\n",
    "                txt_filename = os.path.splitext(filename)[0] + '.txt'\n",
    "                txt_filepath = os.path.join(directory, txt_filename)\n",
    "                kniha = \"\"\n",
    "\n",
    "                for item in book.get_items():\n",
    "                    if item.get_type() == ebooklib.ITEM_DOCUMENT:\n",
    "                        kniha = kniha + item.get_content().decode('utf-8')\n",
    "\n",
    "                soup = BeautifulSoup(kniha, 'html.parser')\n",
    "                kniha = soup.get_text()\n",
    "\n",
    "                with open(txt_filepath, 'w+', encoding='utf-8') as txt_file:\n",
    "                        txt_file.write(kniha)\n",
    "                        \n",
    "                uspesne.append(filename)\n",
    "            \n",
    "            except:\n",
    "                print(f\"\"\"nepovedlo se: {filename}\\n\"\"\")\n",
    "                \n",
    "    print(f\"\"\"slovník vytvořen z {len(uspesne)} knih: {\", \".join(uspesne)}\"\"\")"
   ]
  },
  {
   "cell_type": "code",
   "execution_count": 44,
   "id": "b23a0ec5",
   "metadata": {},
   "outputs": [
    {
     "name": "stderr",
     "output_type": "stream",
     "text": [
      "C:\\tools\\anaconda3\\Lib\\site-packages\\ebooklib\\epub.py:1395: UserWarning: In the future version we will turn default option ignore_ncx to True.\n",
      "  warnings.warn('In the future version we will turn default option ignore_ncx to True.')\n"
     ]
    },
    {
     "name": "stdout",
     "output_type": "stream",
     "text": [
      "nepovedlo se: kubula_a_kuba_kubikula.epub\n",
      "\n",
      "slovník vytvořen z 59 knih: babicka.epub, brouckova_pozustalost.epub, bylo_nas_pet.epub, cisaruv_slavik.epub, deti_cisteho_ziveho.epub, devatero_pohadek.epub, diva_bara.epub, dum_na_predmesti.epub, dvanact_pohadek_z_onoho_sveta.epub, dva_lelci_ve_skrini.epub, edudant_a_francimor.epub, ezopovy_bajky.epub, honzlova.epub, hordubal.epub, hostinec_u_kamenneho_stolu.epub, jak_se_co_dela.epub, janosik_cibula.epub, kocici_kral (1).epub, konec_starych_casu.epub, kopretiny_pro_zameckou_pani.epub, liska_bystrouska.epub, lovci_mamutu (1).epub, mel_jsem_psa_a_kocku.epub, mesic_nad_rekou.epub, metracek.epub, muzi_v_ofsajdu.epub, narodni_bachorky_a_povesti_i.epub, narodni_bachorky_a_povesti_ii.epub, nasi_furianti.epub, nove_prazske_povesti.epub, osada_havranu.epub, ostre_sledovane_vlaky.epub, otec_kondelik_a_zenich_vejvara.epub, podivne_pratelstvi_herce_jesenina.epub, povidani_o_pejskovi_a_kocicce.epub, povidejme_si_deti.epub, povidky_malostranske.epub, povidky_z_druhe_kapsy.epub, povidky_z_jedne_kapsy.epub, prvni_parta.epub, pucalkovic_amina.epub, robinson_crusoe (1).epub, rozmarne_leto.epub, Saturnin - Zdeněk Jirotka.epub, sedmero_krkavcu.epub, skolak_kaja_marik_1.epub, skolak_kaja_marik_2.epub, skolak_kaja_marik_3.epub, skolak_kaja_marik_5.epub, skolak_kaja_marik_6.epub, skolak_kaja_marik_7.epub, slavnosti_snezenek.epub, stare_povesti_ceske.epub, trapne_povidky.epub, valka_s_mloky (1).epub, volani_rodu.epub, vybrane_baje_a_povesti_narodni.epub, zahradnikuv_rok.epub, zapadli_vlastenci (1).epub\n"
     ]
    }
   ],
   "source": [
    "epub_txt(slozka)"
   ]
  },
  {
   "cell_type": "code",
   "execution_count": 45,
   "id": "fe63cace",
   "metadata": {},
   "outputs": [],
   "source": [
    "import re"
   ]
  },
  {
   "cell_type": "code",
   "execution_count": 46,
   "id": "08c29600",
   "metadata": {},
   "outputs": [],
   "source": [
    "file_content = []\n",
    "for filename in os.listdir(slozka):\n",
    "    if filename.endswith(\".txt\"):\n",
    "        file_path = os.path.join(slozka, filename)\n",
    "        with open(file_path, \"r\", encoding=\"utf-8\") as file:\n",
    "            file_content.append(file.read())\n",
    "\n",
    "text = \" \".join(file_content).replace(\"_\",\" \")\n",
    "\n",
    "text = re.sub(\"\\d+\", \"\", text)\n",
    "\n",
    "words = re.findall(r'\\b\\w+\\b', text)"
   ]
  },
  {
   "cell_type": "code",
   "execution_count": 47,
   "id": "6fe923a9",
   "metadata": {},
   "outputs": [],
   "source": [
    "words = [x.lower() for x in words if (len(x) >= 3)]\n",
    "words = list(set(words))"
   ]
  },
  {
   "cell_type": "code",
   "execution_count": 64,
   "id": "9c3fb01a",
   "metadata": {},
   "outputs": [],
   "source": [
    "def procisti_seznam(sez):\n",
    "    rimske = [\"i\",\"ii\",\"iii\",\"iv\",\"v\",\"vi\",\"vii\",\"viii\",\"ix\",\"x\",\"xi\",\"xii\",\"xiii\",\"xiv\",\"xv\",\"xvi\",\"xvii\",\"xviii\",\"ixx\",\"xx\",\"xxi\",\"xxii\",\"xxiii\",\"xxiv\",\"xxv\"]\n",
    "    sproste = ['píč','hovn','srát','šulín','kund','kurv','posr','dement','blbec']\n",
    "    novy_seznam = []\n",
    "    for x in sez:\n",
    "        if x not in rimske:\n",
    "            for s in sproste:\n",
    "                if s not in x:\n",
    "                    novy_seznam.append(x)\n",
    "    return list(set(novy_seznam))"
   ]
  },
  {
   "cell_type": "code",
   "execution_count": 49,
   "id": "bba7779b",
   "metadata": {},
   "outputs": [
    {
     "data": {
      "text/plain": [
       "241184"
      ]
     },
     "execution_count": 49,
     "metadata": {},
     "output_type": "execute_result"
    }
   ],
   "source": [
    "len(words)"
   ]
  },
  {
   "cell_type": "code",
   "execution_count": 50,
   "id": "3df61fc3",
   "metadata": {},
   "outputs": [],
   "source": [
    "words = procisti_seznam(words)"
   ]
  },
  {
   "cell_type": "code",
   "execution_count": 51,
   "id": "6e24636c",
   "metadata": {},
   "outputs": [
    {
     "data": {
      "text/plain": [
       "241170"
      ]
     },
     "execution_count": 51,
     "metadata": {},
     "output_type": "execute_result"
    }
   ],
   "source": [
    "len(words)"
   ]
  },
  {
   "cell_type": "code",
   "execution_count": 52,
   "id": "83105e2b",
   "metadata": {},
   "outputs": [],
   "source": [
    "with open(\"slova_z_knih.txt\", \"w+\", encoding=\"utf-8\") as slova:\n",
    "    slova.write(\"\\n\".join(words))"
   ]
  },
  {
   "cell_type": "code",
   "execution_count": 53,
   "id": "2f331002",
   "metadata": {},
   "outputs": [],
   "source": [
    "import pandas as pd"
   ]
  },
  {
   "cell_type": "code",
   "execution_count": 54,
   "id": "4cf981f0",
   "metadata": {},
   "outputs": [],
   "source": [
    "df = pd.read_csv(os.path.join(\"data\",\"syn2000_lemma_utf8.tsv\"), sep='\\t', header=None)"
   ]
  },
  {
   "cell_type": "code",
   "execution_count": 55,
   "id": "d023bd7c",
   "metadata": {},
   "outputs": [
    {
     "data": {
      "text/html": [
       "<div>\n",
       "<style scoped>\n",
       "    .dataframe tbody tr th:only-of-type {\n",
       "        vertical-align: middle;\n",
       "    }\n",
       "\n",
       "    .dataframe tbody tr th {\n",
       "        vertical-align: top;\n",
       "    }\n",
       "\n",
       "    .dataframe thead th {\n",
       "        text-align: right;\n",
       "    }\n",
       "</style>\n",
       "<table border=\"1\" class=\"dataframe\">\n",
       "  <thead>\n",
       "    <tr style=\"text-align: right;\">\n",
       "      <th></th>\n",
       "      <th>0</th>\n",
       "      <th>1</th>\n",
       "      <th>2</th>\n",
       "      <th>3</th>\n",
       "      <th>4</th>\n",
       "      <th>5</th>\n",
       "      <th>6</th>\n",
       "      <th>7</th>\n",
       "    </tr>\n",
       "  </thead>\n",
       "  <tbody>\n",
       "    <tr>\n",
       "      <th>0</th>\n",
       "      <td>1.0</td>\n",
       "      <td>být</td>\n",
       "      <td>3144166</td>\n",
       "      <td>3937788</td>\n",
       "      <td>1611907</td>\n",
       "      <td>1208702</td>\n",
       "      <td>1117179</td>\n",
       "      <td>NaN</td>\n",
       "    </tr>\n",
       "    <tr>\n",
       "      <th>1</th>\n",
       "      <td>2.0</td>\n",
       "      <td>a</td>\n",
       "      <td>2570923</td>\n",
       "      <td>3282859</td>\n",
       "      <td>1295233</td>\n",
       "      <td>1113801</td>\n",
       "      <td>873824</td>\n",
       "      <td>NaN</td>\n",
       "    </tr>\n",
       "    <tr>\n",
       "      <th>2</th>\n",
       "      <td>3.0</td>\n",
       "      <td>v</td>\n",
       "      <td>2311560</td>\n",
       "      <td>2373695</td>\n",
       "      <td>549803</td>\n",
       "      <td>857795</td>\n",
       "      <td>966097</td>\n",
       "      <td>NaN</td>\n",
       "    </tr>\n",
       "    <tr>\n",
       "      <th>3</th>\n",
       "      <td>4.0</td>\n",
       "      <td>se</td>\n",
       "      <td>2141634</td>\n",
       "      <td>2821556</td>\n",
       "      <td>1334327</td>\n",
       "      <td>750131</td>\n",
       "      <td>737098</td>\n",
       "      <td>NaN</td>\n",
       "    </tr>\n",
       "    <tr>\n",
       "      <th>4</th>\n",
       "      <td>5.0</td>\n",
       "      <td>na</td>\n",
       "      <td>1525163</td>\n",
       "      <td>1737523</td>\n",
       "      <td>601078</td>\n",
       "      <td>540027</td>\n",
       "      <td>596418</td>\n",
       "      <td>NaN</td>\n",
       "    </tr>\n",
       "    <tr>\n",
       "      <th>...</th>\n",
       "      <td>...</td>\n",
       "      <td>...</td>\n",
       "      <td>...</td>\n",
       "      <td>...</td>\n",
       "      <td>...</td>\n",
       "      <td>...</td>\n",
       "      <td>...</td>\n",
       "      <td>...</td>\n",
       "    </tr>\n",
       "    <tr>\n",
       "      <th>119437</th>\n",
       "      <td>NaN</td>\n",
       "      <td>žlutobřichý</td>\n",
       "      <td>10</td>\n",
       "      <td>17</td>\n",
       "      <td>0</td>\n",
       "      <td>17</td>\n",
       "      <td>0</td>\n",
       "      <td>+O</td>\n",
       "    </tr>\n",
       "    <tr>\n",
       "      <th>119438</th>\n",
       "      <td>NaN</td>\n",
       "      <td>žokejský</td>\n",
       "      <td>10</td>\n",
       "      <td>15</td>\n",
       "      <td>11</td>\n",
       "      <td>0</td>\n",
       "      <td>4</td>\n",
       "      <td>-O</td>\n",
       "    </tr>\n",
       "    <tr>\n",
       "      <th>119439</th>\n",
       "      <td>NaN</td>\n",
       "      <td>žonglérství</td>\n",
       "      <td>10</td>\n",
       "      <td>7</td>\n",
       "      <td>0</td>\n",
       "      <td>2</td>\n",
       "      <td>5</td>\n",
       "      <td>-B</td>\n",
       "    </tr>\n",
       "    <tr>\n",
       "      <th>119440</th>\n",
       "      <td>NaN</td>\n",
       "      <td>Žuk</td>\n",
       "      <td>10</td>\n",
       "      <td>8</td>\n",
       "      <td>3</td>\n",
       "      <td>0</td>\n",
       "      <td>5</td>\n",
       "      <td>-O</td>\n",
       "    </tr>\n",
       "    <tr>\n",
       "      <th>119441</th>\n",
       "      <td>NaN</td>\n",
       "      <td>Žung</td>\n",
       "      <td>10</td>\n",
       "      <td>7</td>\n",
       "      <td>0</td>\n",
       "      <td>2</td>\n",
       "      <td>5</td>\n",
       "      <td>-B</td>\n",
       "    </tr>\n",
       "  </tbody>\n",
       "</table>\n",
       "<p>119442 rows × 8 columns</p>\n",
       "</div>"
      ],
      "text/plain": [
       "          0            1        2        3        4        5        6    7\n",
       "0       1.0          být  3144166  3937788  1611907  1208702  1117179  NaN\n",
       "1       2.0            a  2570923  3282859  1295233  1113801   873824  NaN\n",
       "2       3.0            v  2311560  2373695   549803   857795   966097  NaN\n",
       "3       4.0           se  2141634  2821556  1334327   750131   737098  NaN\n",
       "4       5.0           na  1525163  1737523   601078   540027   596418  NaN\n",
       "...     ...          ...      ...      ...      ...      ...      ...  ...\n",
       "119437  NaN  žlutobřichý       10       17        0       17        0   +O\n",
       "119438  NaN     žokejský       10       15       11        0        4   -O\n",
       "119439  NaN  žonglérství       10        7        0        2        5   -B\n",
       "119440  NaN          Žuk       10        8        3        0        5   -O\n",
       "119441  NaN         Žung       10        7        0        2        5   -B\n",
       "\n",
       "[119442 rows x 8 columns]"
      ]
     },
     "execution_count": 55,
     "metadata": {},
     "output_type": "execute_result"
    }
   ],
   "source": [
    "df"
   ]
  },
  {
   "cell_type": "code",
   "execution_count": 56,
   "id": "f8c249ad",
   "metadata": {},
   "outputs": [],
   "source": [
    "slova_freq = df[1].to_list()"
   ]
  },
  {
   "cell_type": "code",
   "execution_count": 57,
   "id": "c2f39f8c",
   "metadata": {},
   "outputs": [],
   "source": [
    "slova_freq = [str(s) for s in slova_freq]\n",
    "slova_freq = procisti_seznam(slova_freq)"
   ]
  },
  {
   "cell_type": "code",
   "execution_count": 58,
   "id": "1d880cb1",
   "metadata": {},
   "outputs": [],
   "source": [
    "with open(\"slova_z_korpusu.txt\", \"w+\", encoding=\"utf-8\") as slova:\n",
    "    slova.write(\"\\n\".join(slova_freq))"
   ]
  },
  {
   "cell_type": "code",
   "execution_count": 65,
   "id": "96e6603b",
   "metadata": {},
   "outputs": [
    {
     "data": {
      "text/plain": [
       "9997"
      ]
     },
     "execution_count": 65,
     "metadata": {},
     "output_type": "execute_result"
    }
   ],
   "source": [
    "slova_freq_10k = df.head(10000)[1].to_list()\n",
    "slova_freq_10k = [str(s) for s in slova_freq_10k]\n",
    "slova_freq_10k = procisti_seznam(slova_freq_10k)\n",
    "len(slova_freq_10k)"
   ]
  },
  {
   "cell_type": "code",
   "execution_count": 62,
   "id": "e875f192",
   "metadata": {},
   "outputs": [],
   "source": [
    "with open(\"slova_z_korpusu_10k.txt\", \"w+\", encoding=\"utf-8\") as slova:\n",
    "    slova.write(\"\\n\".join(slova_freq_10k))"
   ]
  },
  {
   "cell_type": "code",
   "execution_count": 67,
   "id": "aff48cb7",
   "metadata": {},
   "outputs": [
    {
     "data": {
      "text/plain": [
       "49995"
      ]
     },
     "execution_count": 67,
     "metadata": {},
     "output_type": "execute_result"
    }
   ],
   "source": [
    "slova_freq_50k = df.head(50000)[1].to_list()\n",
    "slova_freq_50k = [str(s) for s in slova_freq_50k]\n",
    "slova_freq_50k = procisti_seznam(slova_freq_50k)\n",
    "len(slova_freq_50k)"
   ]
  },
  {
   "cell_type": "code",
   "execution_count": 68,
   "id": "a5faa1e3",
   "metadata": {},
   "outputs": [],
   "source": [
    "with open(\"slova_z_korpusu_50k.txt\", \"w+\", encoding=\"utf-8\") as slova:\n",
    "    slova.write(\"\\n\".join(slova_freq_50k))"
   ]
  }
 ],
 "metadata": {
  "kernelspec": {
   "display_name": "Python 3 (ipykernel)",
   "language": "python",
   "name": "python3"
  },
  "language_info": {
   "codemirror_mode": {
    "name": "ipython",
    "version": 3
   },
   "file_extension": ".py",
   "mimetype": "text/x-python",
   "name": "python",
   "nbconvert_exporter": "python",
   "pygments_lexer": "ipython3",
   "version": "3.11.5"
  }
 },
 "nbformat": 4,
 "nbformat_minor": 5
}
