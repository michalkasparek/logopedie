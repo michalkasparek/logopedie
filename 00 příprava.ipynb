{
 "cells": [
  {
   "cell_type": "code",
   "execution_count": 181,
   "id": "c71748af",
   "metadata": {},
   "outputs": [],
   "source": [
    "import os\n",
    "import ebooklib\n",
    "from ebooklib import epub\n",
    "from bs4 import BeautifulSoup"
   ]
  },
  {
   "cell_type": "code",
   "execution_count": 182,
   "id": "5549e765",
   "metadata": {},
   "outputs": [],
   "source": [
    "slozka = \"knihy\""
   ]
  },
  {
   "cell_type": "code",
   "execution_count": 192,
   "id": "83d6f381",
   "metadata": {},
   "outputs": [],
   "source": [
    "if not os.path.exists(slozka):\n",
    "    os.makedirs(slozka)"
   ]
  },
  {
   "cell_type": "code",
   "execution_count": 193,
   "id": "77fb7a79",
   "metadata": {},
   "outputs": [],
   "source": [
    "def epub_txt(directory):\n",
    "    \n",
    "    uspesne = []\n",
    "    \n",
    "    for filename in os.listdir(directory):\n",
    "        if filename.endswith('.epub'):\n",
    "            \n",
    "            try:\n",
    "            \n",
    "                book = epub.read_epub(os.path.join(directory, filename))\n",
    "                txt_filename = os.path.splitext(filename)[0] + '.txt'\n",
    "                txt_filepath = os.path.join(directory, txt_filename)\n",
    "                kniha = \"\"\n",
    "\n",
    "                for item in book.get_items():\n",
    "                    if item.get_type() == ebooklib.ITEM_DOCUMENT:\n",
    "                        kniha = kniha + item.get_content().decode('utf-8')\n",
    "\n",
    "                soup = BeautifulSoup(kniha, 'html.parser')\n",
    "                kniha = soup.get_text()\n",
    "\n",
    "                with open(txt_filepath, 'w+', encoding='utf-8') as txt_file:\n",
    "                        txt_file.write(kniha)\n",
    "                        \n",
    "                uspesne.append(filename)\n",
    "            \n",
    "            except:\n",
    "                print(f\"\"\"nepovedlo se: {filename}\\n\"\"\")\n",
    "                \n",
    "    print(f\"\"\"slovník vytvořen z {len(uspesne)} knih: {\", \".join(uspesne)}\"\"\")"
   ]
  },
  {
   "cell_type": "code",
   "execution_count": 194,
   "id": "b23a0ec5",
   "metadata": {},
   "outputs": [
    {
     "name": "stdout",
     "output_type": "stream",
     "text": [
      "nepovedlo se: kubula_a_kuba_kubikula.epub\n",
      "\n",
      "slovník vytvořen z 38 knih: babicka.epub, brouckova_pozustalost.epub, bylo_nas_pet.epub, cisaruv_slavik.epub, deti_cisteho_ziveho.epub, devatero_pohadek.epub, dvanact_pohadek_z_onoho_sveta.epub, dva_lelci_ve_skrini.epub, edudant_a_francimor.epub, ezopovy_bajky.epub, honzlova.epub, hordubal.epub, janosik_cibula.epub, kocici_kral (1).epub, kopretiny_pro_zameckou_pani.epub, liska_bystrouska.epub, lovci_mamutu (1).epub, mel_jsem_psa_a_kocku.epub, mesic_nad_rekou.epub, metracek.epub, narodni_bachorky_a_povesti_i.epub, nasi_furianti.epub, nove_prazske_povesti.epub, osada_havranu.epub, ostre_sledovane_vlaky.epub, podivne_pratelstvi_herce_jesenina.epub, povidani_o_pejskovi_a_kocicce.epub, povidejme_si_deti.epub, prvni_parta.epub, pucalkovic_amina.epub, robinson_crusoe (1).epub, sedmero_krkavcu.epub, skolak_kaja_marik_1.epub, stare_povesti_ceske.epub, trapne_povidky.epub, valka_s_mloky (1).epub, volani_rodu.epub, zahradnikuv_rok.epub\n"
     ]
    }
   ],
   "source": [
    "epub_txt(slozka)"
   ]
  },
  {
   "cell_type": "code",
   "execution_count": 186,
   "id": "fe63cace",
   "metadata": {},
   "outputs": [],
   "source": [
    "import re"
   ]
  },
  {
   "cell_type": "code",
   "execution_count": 187,
   "id": "08c29600",
   "metadata": {},
   "outputs": [],
   "source": [
    "file_content = []\n",
    "for filename in os.listdir(slozka):\n",
    "    if filename.endswith(\".txt\"):\n",
    "        file_path = os.path.join(slozka, filename)\n",
    "        with open(file_path, \"r\", encoding=\"utf-8\") as file:\n",
    "            file_content.append(file.read())\n",
    "\n",
    "text = \" \".join(file_content)\n",
    "\n",
    "words = re.findall(r'\\b\\w+\\b', text)"
   ]
  },
  {
   "cell_type": "code",
   "execution_count": 188,
   "id": "523aa71c",
   "metadata": {},
   "outputs": [],
   "source": [
    "rimske = [\"i\",\"ii\",\"iii\",\"iv\",\"v\",\"vi\",\"vii\",\"viii\",\"ix\",\"x\",\"xi\",\"xii\",\"xiii\",\"xiv\",\"xv\",\"xvi\",\"xvii\",\"xviii\",\"ixx\",\"xx\",\"xxi\",\"xxii\",\"xxiii\",\"xxiv\",\"xxv\"]"
   ]
  },
  {
   "cell_type": "code",
   "execution_count": 189,
   "id": "6fe923a9",
   "metadata": {},
   "outputs": [],
   "source": [
    "words = [x.lower() for x in words if (len(x) >= 3) and (x not in rimske)]\n",
    "words = list(set(words))"
   ]
  },
  {
   "cell_type": "code",
   "execution_count": 190,
   "id": "bba7779b",
   "metadata": {},
   "outputs": [
    {
     "data": {
      "text/plain": [
       "138580"
      ]
     },
     "execution_count": 190,
     "metadata": {},
     "output_type": "execute_result"
    }
   ],
   "source": [
    "len(words)"
   ]
  },
  {
   "cell_type": "code",
   "execution_count": 191,
   "id": "83105e2b",
   "metadata": {},
   "outputs": [],
   "source": [
    "with open(\"slova.txt\", \"w+\", encoding=\"utf-8\") as slova:\n",
    "    slova.write(\"\\n\".join(words))"
   ]
  }
 ],
 "metadata": {
  "kernelspec": {
   "display_name": "Python 3 (ipykernel)",
   "language": "python",
   "name": "python3"
  },
  "language_info": {
   "codemirror_mode": {
    "name": "ipython",
    "version": 3
   },
   "file_extension": ".py",
   "mimetype": "text/x-python",
   "name": "python",
   "nbconvert_exporter": "python",
   "pygments_lexer": "ipython3",
   "version": "3.10.8"
  }
 },
 "nbformat": 4,
 "nbformat_minor": 5
}
