{
 "cells": [
  {
   "cell_type": "code",
   "execution_count": 120,
   "id": "c71748af",
   "metadata": {},
   "outputs": [],
   "source": [
    "import os\n",
    "import ebooklib\n",
    "from ebooklib import epub\n",
    "from bs4 import BeautifulSoup"
   ]
  },
  {
   "cell_type": "code",
   "execution_count": 121,
   "id": "5549e765",
   "metadata": {},
   "outputs": [],
   "source": [
    "slozka = \"knihy\""
   ]
  },
  {
   "cell_type": "code",
   "execution_count": 122,
   "id": "83d6f381",
   "metadata": {},
   "outputs": [],
   "source": [
    "if not os.path.exists(slozka):\n",
    "    os.makedirs(slozka)"
   ]
  },
  {
   "cell_type": "code",
   "execution_count": 123,
   "id": "77fb7a79",
   "metadata": {},
   "outputs": [],
   "source": [
    "def epub_txt(directory):\n",
    "    \n",
    "    uspesne = []\n",
    "    \n",
    "    for filename in os.listdir(directory):\n",
    "        if filename.endswith('.epub'):\n",
    "            \n",
    "            try:\n",
    "            \n",
    "                book = epub.read_epub(os.path.join(directory, filename))\n",
    "                txt_filename = os.path.splitext(filename)[0] + '.txt'\n",
    "                txt_filepath = os.path.join(directory, txt_filename)\n",
    "                kniha = \"\"\n",
    "\n",
    "                for item in book.get_items():\n",
    "                    if item.get_type() == ebooklib.ITEM_DOCUMENT:\n",
    "                        kniha = kniha + item.get_content().decode('utf-8')\n",
    "\n",
    "                soup = BeautifulSoup(kniha, 'html.parser')\n",
    "                kniha = soup.get_text()\n",
    "\n",
    "                with open(txt_filepath, 'w+', encoding='utf-8') as txt_file:\n",
    "                        txt_file.write(kniha)\n",
    "                        \n",
    "                uspesne.append(filename)\n",
    "            \n",
    "            except:\n",
    "                print(f\"\"\"nepovedlo se: {filename}\\n\"\"\")\n",
    "                \n",
    "    print(f\"\"\"slovník vytvořen z {len(uspesne)} knih: {\", \".join(uspesne)}\"\"\")"
   ]
  },
  {
   "cell_type": "code",
   "execution_count": 124,
   "id": "b23a0ec5",
   "metadata": {},
   "outputs": [
    {
     "name": "stderr",
     "output_type": "stream",
     "text": [
      "C:\\tools\\anaconda3\\Lib\\site-packages\\ebooklib\\epub.py:1395: UserWarning: In the future version we will turn default option ignore_ncx to True.\n",
      "  warnings.warn('In the future version we will turn default option ignore_ncx to True.')\n"
     ]
    },
    {
     "name": "stdout",
     "output_type": "stream",
     "text": [
      "nepovedlo se: kubula_a_kuba_kubikula.epub\n",
      "\n",
      "slovník vytvořen z 59 knih: babicka.epub, brouckova_pozustalost.epub, bylo_nas_pet.epub, cisaruv_slavik.epub, deti_cisteho_ziveho.epub, devatero_pohadek.epub, diva_bara.epub, dum_na_predmesti.epub, dvanact_pohadek_z_onoho_sveta.epub, dva_lelci_ve_skrini.epub, edudant_a_francimor.epub, ezopovy_bajky.epub, honzlova.epub, hordubal.epub, hostinec_u_kamenneho_stolu.epub, jak_se_co_dela.epub, janosik_cibula.epub, kocici_kral (1).epub, konec_starych_casu.epub, kopretiny_pro_zameckou_pani.epub, liska_bystrouska.epub, lovci_mamutu (1).epub, mel_jsem_psa_a_kocku.epub, mesic_nad_rekou.epub, metracek.epub, muzi_v_ofsajdu.epub, narodni_bachorky_a_povesti_i.epub, narodni_bachorky_a_povesti_ii.epub, nasi_furianti.epub, nove_prazske_povesti.epub, osada_havranu.epub, ostre_sledovane_vlaky.epub, otec_kondelik_a_zenich_vejvara.epub, podivne_pratelstvi_herce_jesenina.epub, povidani_o_pejskovi_a_kocicce.epub, povidejme_si_deti.epub, povidky_malostranske.epub, povidky_z_druhe_kapsy.epub, povidky_z_jedne_kapsy.epub, prvni_parta.epub, pucalkovic_amina.epub, robinson_crusoe (1).epub, rozmarne_leto.epub, Saturnin - Zdeněk Jirotka.epub, sedmero_krkavcu.epub, skolak_kaja_marik_1.epub, skolak_kaja_marik_2.epub, skolak_kaja_marik_3.epub, skolak_kaja_marik_5.epub, skolak_kaja_marik_6.epub, skolak_kaja_marik_7.epub, slavnosti_snezenek.epub, stare_povesti_ceske.epub, trapne_povidky.epub, valka_s_mloky (1).epub, volani_rodu.epub, vybrane_baje_a_povesti_narodni.epub, zahradnikuv_rok.epub, zapadli_vlastenci (1).epub\n"
     ]
    }
   ],
   "source": [
    "epub_txt(slozka)"
   ]
  },
  {
   "cell_type": "code",
   "execution_count": 125,
   "id": "fe63cace",
   "metadata": {},
   "outputs": [],
   "source": [
    "import re"
   ]
  },
  {
   "cell_type": "code",
   "execution_count": 126,
   "id": "08c29600",
   "metadata": {},
   "outputs": [],
   "source": [
    "file_content = []\n",
    "for filename in os.listdir(slozka):\n",
    "    if filename.endswith(\".txt\"):\n",
    "        file_path = os.path.join(slozka, filename)\n",
    "        with open(file_path, \"r\", encoding=\"utf-8\") as file:\n",
    "            file_content.append(file.read())\n",
    "\n",
    "text = \" \".join(file_content).replace(\"_\",\" \")\n",
    "\n",
    "text = re.sub(\"\\d+\", \"\", text)\n",
    "\n",
    "words = re.findall(r'\\b\\w+\\b', text)"
   ]
  },
  {
   "cell_type": "code",
   "execution_count": 127,
   "id": "6fe923a9",
   "metadata": {},
   "outputs": [],
   "source": [
    "words = [x.lower() for x in words if (len(x) >= 3)]\n",
    "words = list(set(words))"
   ]
  },
  {
   "cell_type": "code",
   "execution_count": 186,
   "id": "2612390b",
   "metadata": {},
   "outputs": [],
   "source": [
    "def procisti_seznam(sez):\n",
    "    rimske = [\"i\",\"ii\",\"iii\",\"iv\",\"v\",\"vi\",\"vii\",\"viii\",\"ix\",\"x\",\"xi\",\"xii\",\"xiii\",\"xiv\",\"xv\",\"xvi\",\"xvii\",\"xviii\",\"ixx\",\"xx\",\"xxi\",\"xxii\",\"xxiii\",\"xxiv\",\"xxv\"]\n",
    "    sproste = ['píč','hovn','srát','šulín','kund','kurv','posr','dement','blbec','srat','retard','jeba','piči','píčí','mrda','buzer','chcan','chcát','čůrá','průs','sráč','srač','šoust','sran','sex','prde','hajzl','šuk']\n",
    "    novy_seznam = []\n",
    "    for x in sez:\n",
    "        if len(x) >= 3:\n",
    "            if \".\" not in x:\n",
    "                if x not in rimske:\n",
    "                    for s in sproste:\n",
    "                        if s not in x:\n",
    "                            novy_seznam.append(x)\n",
    "    return list(set(novy_seznam))"
   ]
  },
  {
   "cell_type": "code",
   "execution_count": 187,
   "id": "bba7779b",
   "metadata": {},
   "outputs": [
    {
     "data": {
      "text/plain": [
       "241170"
      ]
     },
     "execution_count": 187,
     "metadata": {},
     "output_type": "execute_result"
    }
   ],
   "source": [
    "len(words)"
   ]
  },
  {
   "cell_type": "code",
   "execution_count": 188,
   "id": "4dd672c7",
   "metadata": {},
   "outputs": [],
   "source": [
    "words = procisti_seznam(words)"
   ]
  },
  {
   "cell_type": "code",
   "execution_count": 189,
   "id": "1e01a41f",
   "metadata": {},
   "outputs": [
    {
     "data": {
      "text/plain": [
       "241170"
      ]
     },
     "execution_count": 189,
     "metadata": {},
     "output_type": "execute_result"
    }
   ],
   "source": [
    "len(words)"
   ]
  },
  {
   "cell_type": "code",
   "execution_count": 190,
   "id": "83105e2b",
   "metadata": {},
   "outputs": [],
   "source": [
    "with open(\"slova_z_knih.txt\", \"w+\", encoding=\"utf-8\") as slova:\n",
    "    slova.write(\"\\n\".join(words))"
   ]
  },
  {
   "cell_type": "code",
   "execution_count": 191,
   "id": "9bc9c267",
   "metadata": {},
   "outputs": [],
   "source": [
    "import pandas as pd"
   ]
  },
  {
   "cell_type": "code",
   "execution_count": 192,
   "id": "3be90270",
   "metadata": {},
   "outputs": [],
   "source": [
    "df = pd.read_csv(os.path.join(\"data\",\"syn2000_lemma_utf8.tsv\"), sep='\\t', header=None)"
   ]
  },
  {
   "cell_type": "code",
   "execution_count": 193,
   "id": "ea3211fb",
   "metadata": {},
   "outputs": [],
   "source": [
    "slova_freq = df[1].to_list()"
   ]
  },
  {
   "cell_type": "code",
   "execution_count": 194,
   "id": "affdb267",
   "metadata": {},
   "outputs": [
    {
     "data": {
      "text/plain": [
       "118080"
      ]
     },
     "execution_count": 194,
     "metadata": {},
     "output_type": "execute_result"
    }
   ],
   "source": [
    "slova_freq = [str(s) for s in slova_freq]\n",
    "slova_freq = procisti_seznam(slova_freq)\n",
    "len(slova_freq)"
   ]
  },
  {
   "cell_type": "code",
   "execution_count": 195,
   "id": "7b41d1d0",
   "metadata": {},
   "outputs": [],
   "source": [
    "with open(\"slova_z_korpusu.txt\", \"w+\", encoding=\"utf-8\") as slova:\n",
    "    slova.write(\"\\n\".join(slova_freq))"
   ]
  },
  {
   "cell_type": "code",
   "execution_count": 196,
   "id": "4dc64fa5",
   "metadata": {},
   "outputs": [
    {
     "data": {
      "text/plain": [
       "9832"
      ]
     },
     "execution_count": 196,
     "metadata": {},
     "output_type": "execute_result"
    }
   ],
   "source": [
    "slova_freq_10k = df.head(10000)[1].to_list()\n",
    "slova_freq_10k = [str(s) for s in slova_freq_10k]\n",
    "slova_freq_10k = procisti_seznam(slova_freq_10k)\n",
    "len(slova_freq_10k)"
   ]
  },
  {
   "cell_type": "code",
   "execution_count": 197,
   "id": "966da625",
   "metadata": {},
   "outputs": [],
   "source": [
    "with open(\"slova_z_korpusu_10k.txt\", \"w+\", encoding=\"utf-8\") as slova:\n",
    "    slova.write(\"\\n\".join(slova_freq_10k))"
   ]
  },
  {
   "cell_type": "code",
   "execution_count": 198,
   "id": "0d7e800a",
   "metadata": {},
   "outputs": [
    {
     "data": {
      "text/plain": [
       "49296"
      ]
     },
     "execution_count": 198,
     "metadata": {},
     "output_type": "execute_result"
    }
   ],
   "source": [
    "slova_freq_50k = df.head(50000)[1].to_list()\n",
    "slova_freq_50k = [str(s) for s in slova_freq_50k]\n",
    "slova_freq_50k = procisti_seznam(slova_freq_50k)\n",
    "len(slova_freq_50k)"
   ]
  },
  {
   "cell_type": "code",
   "execution_count": 199,
   "id": "01d9a3af",
   "metadata": {},
   "outputs": [],
   "source": [
    "with open(\"slova_z_korpusu_50k.txt\", \"w+\", encoding=\"utf-8\") as slova:\n",
    "    slova.write(\"\\n\".join(slova_freq_50k))"
   ]
  }
 ],
 "metadata": {
  "kernelspec": {
   "display_name": "Python 3 (ipykernel)",
   "language": "python",
   "name": "python3"
  },
  "language_info": {
   "codemirror_mode": {
    "name": "ipython",
    "version": 3
   },
   "file_extension": ".py",
   "mimetype": "text/x-python",
   "name": "python",
   "nbconvert_exporter": "python",
   "pygments_lexer": "ipython3",
   "version": "3.11.5"
  }
 },
 "nbformat": 4,
 "nbformat_minor": 5
}
